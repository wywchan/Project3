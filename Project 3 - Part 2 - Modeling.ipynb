{
 "cells": [
  {
   "cell_type": "markdown",
   "metadata": {
    "colab_type": "text",
    "id": "31WGLNUzM5JE"
   },
   "source": [
    "# Project 3 -  NLP and Reddit Classification - Part 2: Modeling"
   ]
  },
  {
   "cell_type": "markdown",
   "metadata": {},
   "source": [
    "### Contents:\n",
    "#### Part 1:\n",
    "- API Data Import\n",
    "- Exploratory Data Analysis\n",
    "\n",
    "#### Part 2:\n",
    "- [Model Setup](#Model-Setup)\n",
    "- [Initial Model Configurations](#Initial-Model-Configurations)\n",
    "- [Modeling Using Stemmed X Values](#Modeling-Using-Stemmed-X-Values)\n",
    "- [Change Train/Test Split to 80:20 from 66:33](#Change-Train/Test-Split-to-80:20-from-66:33)\n",
    "- [Engineer Additional Feature](#Engineer-Additional-Feature)\n",
    "- [Score Against Train and Test Datasets](#Score-Against-Train-and-Test-Datasets)\n",
    "- [Confusion Matrix](#Confusion-Matrix)\n",
    "- [Sensitivity and Specificity](#Sensitivity-and-Specificity)\n",
    "- [Reddit Post Content Analysis](#Reddit-Post-Content-Analysis)\n",
    "- [Conclusion](#Conclusion)"
   ]
  },
  {
   "cell_type": "markdown",
   "metadata": {
    "colab_type": "text",
    "id": "6ybIKt7GM5JG"
   },
   "source": [
    "## Package Import"
   ]
  },
  {
   "cell_type": "code",
   "execution_count": 80,
   "metadata": {
    "colab": {},
    "colab_type": "code",
    "id": "ATD0D3VoM5JH"
   },
   "outputs": [],
   "source": [
    "import pandas as pd\n",
    "import numpy as np\n",
    "import seaborn as sns\n",
    "import matplotlib.pyplot as plt\n",
    "from sklearn.model_selection import train_test_split, GridSearchCV\n",
    "from sklearn.pipeline import Pipeline\n",
    "from sklearn.linear_model import LogisticRegression\n",
    "from sklearn.neighbors import KNeighborsClassifier\n",
    "from sklearn.naive_bayes import MultinomialNB\n",
    "from sklearn.ensemble import RandomForestClassifier\n",
    "from sklearn.svm import SVC\n",
    "from sklearn.feature_extraction.text import CountVectorizer, TfidfVectorizer\n",
    "from nltk.stem.porter import PorterStemmer\n",
    "from sklearn.preprocessing import FunctionTransformer\n",
    "from sklearn.metrics import confusion_matrix, roc_auc_score"
   ]
  },
  {
   "cell_type": "markdown",
   "metadata": {
    "colab_type": "text",
    "id": "MO9unoubM5JM"
   },
   "source": [
    "## Model Setup"
   ]
  },
  {
   "cell_type": "markdown",
   "metadata": {
    "colab_type": "text",
    "id": "UrQ7pWvAM5JO"
   },
   "source": [
    "### Add Column for Stemmed 'selftext'"
   ]
  },
  {
   "cell_type": "code",
   "execution_count": 2,
   "metadata": {
    "colab": {},
    "colab_type": "code",
    "id": "CbYLgmpWM5JO"
   },
   "outputs": [],
   "source": [
    "p_stemmer = PorterStemmer()"
   ]
  },
  {
   "cell_type": "code",
   "execution_count": 3,
   "metadata": {
    "colab": {},
    "colab_type": "code",
    "id": "_O2UL5jxM5JT"
   },
   "outputs": [],
   "source": [
    "data = pd.read_csv('posts_clean.csv')"
   ]
  },
  {
   "cell_type": "code",
   "execution_count": 4,
   "metadata": {
    "colab": {},
    "colab_type": "code",
    "id": "NWV5gF_JM5JW"
   },
   "outputs": [],
   "source": [
    "for i in range(len(data['selftext'])):\n",
    "    if type(data.loc[i,'selftext']) == float: ###code inserted to identify rows that are float that need to be actioned on\n",
    "        print (i)\n",
    "    tokens = (data.loc[i,'selftext']).split()\n",
    "    stem_tokens = [p_stemmer.stem(j) for j in tokens]\n",
    "    data.loc[i,'selftext_stem'] = \" \".join(stem_tokens)"
   ]
  },
  {
   "cell_type": "code",
   "execution_count": 5,
   "metadata": {
    "colab": {},
    "colab_type": "code",
    "id": "acm_UdZBM5Ja",
    "outputId": "fa0d3d9b-faff-422c-d59e-6955726935be"
   },
   "outputs": [
    {
     "data": {
      "text/plain": [
       "'like that scene of taken of liam neeson jumping the fence taking several cuts or the long shot in being considered a selling point i don t understand why either is considered good or bad'"
      ]
     },
     "execution_count": 5,
     "metadata": {},
     "output_type": "execute_result"
    }
   ],
   "source": [
    "data.loc[0,'selftext']"
   ]
  },
  {
   "cell_type": "code",
   "execution_count": 6,
   "metadata": {
    "colab": {},
    "colab_type": "code",
    "id": "Ye-_Kb_1M5Jg",
    "outputId": "29997433-2c84-44bc-fd54-2efdeee63119"
   },
   "outputs": [
    {
     "data": {
      "text/html": [
       "<div>\n",
       "<style scoped>\n",
       "    .dataframe tbody tr th:only-of-type {\n",
       "        vertical-align: middle;\n",
       "    }\n",
       "\n",
       "    .dataframe tbody tr th {\n",
       "        vertical-align: top;\n",
       "    }\n",
       "\n",
       "    .dataframe thead th {\n",
       "        text-align: right;\n",
       "    }\n",
       "</style>\n",
       "<table border=\"1\" class=\"dataframe\">\n",
       "  <thead>\n",
       "    <tr style=\"text-align: right;\">\n",
       "      <th></th>\n",
       "      <th>subreddit</th>\n",
       "      <th>selftext</th>\n",
       "      <th>title</th>\n",
       "      <th>selftext_stem</th>\n",
       "    </tr>\n",
       "  </thead>\n",
       "  <tbody>\n",
       "    <tr>\n",
       "      <th>0</th>\n",
       "      <td>0</td>\n",
       "      <td>like that scene of taken of liam neeson jumpin...</td>\n",
       "      <td>in cinematography why are cuts considered bad</td>\n",
       "      <td>like that scene of taken of liam neeson jump t...</td>\n",
       "    </tr>\n",
       "    <tr>\n",
       "      <th>1</th>\n",
       "      <td>0</td>\n",
       "      <td>i need an advice since i was grade student i w...</td>\n",
       "      <td>this decision will completely change my life</td>\n",
       "      <td>i need an advic sinc i wa grade student i want...</td>\n",
       "    </tr>\n",
       "    <tr>\n",
       "      <th>2</th>\n",
       "      <td>0</td>\n",
       "      <td>every source i found says clinical depression ...</td>\n",
       "      <td>what gave some people the idea that clinical d...</td>\n",
       "      <td>everi sourc i found say clinic depress is caus...</td>\n",
       "    </tr>\n",
       "    <tr>\n",
       "      <th>3</th>\n",
       "      <td>0</td>\n",
       "      <td>my little brother got an xbox one and i got a ...</td>\n",
       "      <td>what exactly is the logic behind birthday pres...</td>\n",
       "      <td>my littl brother got an xbox one and i got a t...</td>\n",
       "    </tr>\n",
       "    <tr>\n",
       "      <th>4</th>\n",
       "      <td>0</td>\n",
       "      <td>do most people go through a phase in their lif...</td>\n",
       "      <td>do most people go through a phase in their lif...</td>\n",
       "      <td>do most peopl go through a phase in their life...</td>\n",
       "    </tr>\n",
       "    <tr>\n",
       "      <th>...</th>\n",
       "      <td>...</td>\n",
       "      <td>...</td>\n",
       "      <td>...</td>\n",
       "      <td>...</td>\n",
       "    </tr>\n",
       "    <tr>\n",
       "      <th>3249</th>\n",
       "      <td>1</td>\n",
       "      <td>like in the uk you re allowed to go outside to...</td>\n",
       "      <td>do people judge you for walking round the park</td>\n",
       "      <td>like in the uk you re allow to go outsid to ex...</td>\n",
       "    </tr>\n",
       "    <tr>\n",
       "      <th>3250</th>\n",
       "      <td>1</td>\n",
       "      <td>i know that our body s become paralyzed to pre...</td>\n",
       "      <td>why don t we sneeze while sleeping</td>\n",
       "      <td>i know that our bodi s becom paralyz to preven...</td>\n",
       "    </tr>\n",
       "    <tr>\n",
       "      <th>3251</th>\n",
       "      <td>1</td>\n",
       "      <td>i have a an android my volume is up but no sou...</td>\n",
       "      <td>audio for mobile reddit app</td>\n",
       "      <td>i have a an android my volum is up but no soun...</td>\n",
       "    </tr>\n",
       "    <tr>\n",
       "      <th>3252</th>\n",
       "      <td>1</td>\n",
       "      <td>so i read the news line about the u s having a...</td>\n",
       "      <td>trillion bailout</td>\n",
       "      <td>so i read the news line about the u s have a t...</td>\n",
       "    </tr>\n",
       "    <tr>\n",
       "      <th>3253</th>\n",
       "      <td>1</td>\n",
       "      <td>my mom seems to be annoyed when i fidget but i...</td>\n",
       "      <td>i fidget a lot</td>\n",
       "      <td>my mom seem to be annoy when i fidget but i do...</td>\n",
       "    </tr>\n",
       "  </tbody>\n",
       "</table>\n",
       "<p>3254 rows × 4 columns</p>\n",
       "</div>"
      ],
      "text/plain": [
       "      subreddit                                           selftext  \\\n",
       "0             0  like that scene of taken of liam neeson jumpin...   \n",
       "1             0  i need an advice since i was grade student i w...   \n",
       "2             0  every source i found says clinical depression ...   \n",
       "3             0  my little brother got an xbox one and i got a ...   \n",
       "4             0  do most people go through a phase in their lif...   \n",
       "...         ...                                                ...   \n",
       "3249          1  like in the uk you re allowed to go outside to...   \n",
       "3250          1  i know that our body s become paralyzed to pre...   \n",
       "3251          1  i have a an android my volume is up but no sou...   \n",
       "3252          1  so i read the news line about the u s having a...   \n",
       "3253          1  my mom seems to be annoyed when i fidget but i...   \n",
       "\n",
       "                                                  title  \\\n",
       "0         in cinematography why are cuts considered bad   \n",
       "1          this decision will completely change my life   \n",
       "2     what gave some people the idea that clinical d...   \n",
       "3     what exactly is the logic behind birthday pres...   \n",
       "4     do most people go through a phase in their lif...   \n",
       "...                                                 ...   \n",
       "3249     do people judge you for walking round the park   \n",
       "3250                 why don t we sneeze while sleeping   \n",
       "3251                        audio for mobile reddit app   \n",
       "3252                                   trillion bailout   \n",
       "3253                                     i fidget a lot   \n",
       "\n",
       "                                          selftext_stem  \n",
       "0     like that scene of taken of liam neeson jump t...  \n",
       "1     i need an advic sinc i wa grade student i want...  \n",
       "2     everi sourc i found say clinic depress is caus...  \n",
       "3     my littl brother got an xbox one and i got a t...  \n",
       "4     do most peopl go through a phase in their life...  \n",
       "...                                                 ...  \n",
       "3249  like in the uk you re allow to go outsid to ex...  \n",
       "3250  i know that our bodi s becom paralyz to preven...  \n",
       "3251  i have a an android my volum is up but no soun...  \n",
       "3252  so i read the news line about the u s have a t...  \n",
       "3253  my mom seem to be annoy when i fidget but i do...  \n",
       "\n",
       "[3254 rows x 4 columns]"
      ]
     },
     "execution_count": 6,
     "metadata": {},
     "output_type": "execute_result"
    }
   ],
   "source": [
    "data"
   ]
  },
  {
   "cell_type": "code",
   "execution_count": 7,
   "metadata": {
    "colab": {},
    "colab_type": "code",
    "id": "j-xewdhFM5Jk",
    "outputId": "6ba93d1a-5859-42f7-ece6-eaada880cc16"
   },
   "outputs": [
    {
     "data": {
      "text/plain": [
       "[('my', 'my'),\n",
       " ('mom', 'mom'),\n",
       " ('seems', 'seem'),\n",
       " ('to', 'to'),\n",
       " ('be', 'be'),\n",
       " ('annoyed', 'annoy'),\n",
       " ('when', 'when'),\n",
       " ('i', 'i'),\n",
       " ('fidget', 'fidget'),\n",
       " ('but', 'but'),\n",
       " ('i', 'i'),\n",
       " ('don', 'don'),\n",
       " ('t', 't'),\n",
       " ('notice', 'notic'),\n",
       " ('until', 'until'),\n",
       " ('she', 'she'),\n",
       " ('tells', 'tell'),\n",
       " ('me', 'me'),\n",
       " ('what', 'what'),\n",
       " ('should', 'should'),\n",
       " ('i', 'i'),\n",
       " ('do', 'do'),\n",
       " ('and', 'and'),\n",
       " ('how', 'how'),\n",
       " ('can', 'can'),\n",
       " ('i', 'i'),\n",
       " ('stop', 'stop'),\n",
       " ('it', 'it')]"
      ]
     },
     "execution_count": 7,
     "metadata": {},
     "output_type": "execute_result"
    }
   ],
   "source": [
    "#review last stemmed entry as an example\n",
    "list(zip(tokens, stem_tokens))"
   ]
  },
  {
   "cell_type": "markdown",
   "metadata": {
    "colab_type": "text",
    "id": "KDk4CMPrM5Jn"
   },
   "source": [
    "### Define X and y Variables"
   ]
  },
  {
   "cell_type": "code",
   "execution_count": 83,
   "metadata": {
    "colab": {},
    "colab_type": "code",
    "id": "1-V0xTeFM5Jo"
   },
   "outputs": [],
   "source": [
    "X = data['selftext']\n",
    "X_stem = data['selftext_stem'] #defining for subsequent model iteration with stemmed results for comparison\n",
    "y = data['subreddit']"
   ]
  },
  {
   "cell_type": "markdown",
   "metadata": {
    "colab_type": "text",
    "id": "kfBx6OUfM5Js"
   },
   "source": [
    "### Setup Train/Test Split"
   ]
  },
  {
   "cell_type": "code",
   "execution_count": 111,
   "metadata": {
    "colab": {},
    "colab_type": "code",
    "id": "Lls_YtqnM5Js"
   },
   "outputs": [],
   "source": [
    "X_train, X_test, y_train, y_test = train_test_split(X,\n",
    "                                                    y,\n",
    "                                                    test_size=0.33,\n",
    "                                                    stratify=y,\n",
    "                                                    random_state=42)"
   ]
  },
  {
   "cell_type": "markdown",
   "metadata": {
    "colab_type": "text",
    "id": "JR5SPd8KM5Jv"
   },
   "source": [
    "## Initial Model Configurations"
   ]
  },
  {
   "cell_type": "markdown",
   "metadata": {
    "colab_type": "text",
    "id": "92auakYyM5Jw"
   },
   "source": [
    "### Baseline Results"
   ]
  },
  {
   "cell_type": "code",
   "execution_count": 10,
   "metadata": {
    "colab": {},
    "colab_type": "code",
    "id": "J5kelM3RM5Jx",
    "outputId": "2db5fdbf-01b3-476f-fc85-d9098581bb65"
   },
   "outputs": [
    {
     "data": {
      "text/plain": [
       "0    0.545624\n",
       "1    0.454376\n",
       "Name: subreddit, dtype: float64"
      ]
     },
     "execution_count": 10,
     "metadata": {},
     "output_type": "execute_result"
    }
   ],
   "source": [
    "y_test.value_counts(normalize=True)"
   ]
  },
  {
   "cell_type": "markdown",
   "metadata": {
    "colab_type": "text",
    "id": "pIfjoz1LM5J1"
   },
   "source": [
    "### Setup Multiple Pipelines for Different Models"
   ]
  },
  {
   "cell_type": "markdown",
   "metadata": {
    "colab_type": "text",
    "id": "XuHGePCBM5J2"
   },
   "source": [
    "We will setup multiple models to test which one works best. We will use 5 classifiers: Logistic, K-Nearest Neighbors, Multinomial Naive Bayes, Random Forest and Support Vector Machines. These will be tested using both Count Vectorizer and TFIDF Vectorizer to extract features.\n",
    "\n",
    "Furthermore, we will test multiple conditions such as including stopwords or not, as well as vary the max number of features generated from the vectorizers. We will then revisit to see if these models perform better or worse using stemmed versions of the X tokens.\n",
    "\n",
    "Finally, we test the best model configurations with the highest cross validation scores and score against the training and final test set."
   ]
  },
  {
   "cell_type": "code",
   "execution_count": 112,
   "metadata": {
    "colab": {},
    "colab_type": "code",
    "id": "EeL4_vmuM5J3"
   },
   "outputs": [],
   "source": [
    "pipe1 = Pipeline([('cvec', CountVectorizer()),\n",
    "                  ('lr', LogisticRegression())])\n",
    "pipe2 = Pipeline([('tvec', TfidfVectorizer()),\n",
    "                  ('lr', LogisticRegression())])\n",
    "pipe3 = Pipeline([('cvec', CountVectorizer()),\n",
    "                  ('knn', KNeighborsClassifier())])\n",
    "pipe4 = Pipeline([('tvec', TfidfVectorizer()),\n",
    "                  ('knn', KNeighborsClassifier())])\n",
    "pipe5 = Pipeline([('cvec', CountVectorizer()),\n",
    "                  ('nb', MultinomialNB())])\n",
    "pipe6 = Pipeline([('tvec', TfidfVectorizer()),\n",
    "                  ('ft', FunctionTransformer(lambda x: x.todense(), accept_sparse=True)),\n",
    "                  ('nb', MultinomialNB())])\n",
    "pipe7 = Pipeline([('cvec', CountVectorizer()),\n",
    "                  ('rf', RandomForestClassifier())])\n",
    "pipe8 = Pipeline([('tvec', TfidfVectorizer()),\n",
    "                  ('ft', FunctionTransformer(lambda x: x.todense(), accept_sparse=True)),\n",
    "                  ('rf', RandomForestClassifier())])\n",
    "pipe9 = Pipeline([('cvec', CountVectorizer()),\n",
    "                  ('svc', SVC())])\n",
    "pipe10 = Pipeline([('tvec', TfidfVectorizer()),\n",
    "                  ('svc', SVC())])\n",
    "\n",
    "pipe1_params = {'cvec__max_features' : [50,100,250,500,1000], #earlier iterations chose lower max features as best params\n",
    "                'cvec__stop_words' : ['english', None],\n",
    "                'cvec__ngram_range' : [(1, 1),(1, 2),(1, 3)],\n",
    "                'lr__penalty' : ['l1', 'l2', 'elasticnet']}\n",
    "pipe2_params = {'tvec__max_features' : [50,100,250,500,1000],\n",
    "                'tvec__stop_words' : ['english', None],\n",
    "                'tvec__ngram_range' : [(1, 1),(1, 2),(1, 3)],\n",
    "                'lr__penalty' : ['l1', 'l2', 'elasticnet']}\n",
    "pipe3_params = {'cvec__max_features' : [100,250,500,1000],  #earlier iterations chose lower max features as best params\n",
    "                'cvec__stop_words' : ['english', None],\n",
    "                'cvec__ngram_range' : [(1, 1),(1, 2),(1, 3)],\n",
    "                'knn__n_neighbors' : range(5, 105, 10),\n",
    "                'knn__p' : [1, 2, 3],\n",
    "                'knn__weights' : ['distance', 'uniform']}\n",
    "pipe4_params = {'tvec__max_features' : [100,250,500,1000],\n",
    "                'tvec__stop_words' : ['english', None],\n",
    "                'tvec__ngram_range' : [(1, 1),(1, 2),(1, 3)],\n",
    "                'knn__n_neighbors' : range(5, 105, 10),\n",
    "                'knn__p' : [1, 2, 3],\n",
    "                'knn__weights' : ['distance', 'uniform']}\n",
    "pipe5_params = {'cvec__max_features' : [100,500,1000,2000], #earlier iterations chose higher max features as best params\n",
    "                'cvec__stop_words' : ['english', None],\n",
    "                'cvec__ngram_range' : [(1, 1),(1, 2),(1, 3)]}\n",
    "pipe6_params = {'tvec__max_features' : [100,500,1000,2000],\n",
    "                'tvec__stop_words' : ['english', None],\n",
    "                'tvec__ngram_range' : [(1, 1),(1, 2),(1, 3)]}\n",
    "pipe7_params = {'cvec__max_features' : [100,500,1000,2000],\n",
    "                'cvec__stop_words' : ['english', None],\n",
    "                'cvec__ngram_range' : [(1, 1),(1, 2),(1, 3)],\n",
    "                'rf__n_estimators' : [10,50,100],\n",
    "                'rf__max_depth' : [5, 7, 10],\n",
    "                'rf__max_features' : [10, 22, 31, 44], #root of vector max features\n",
    "                'rf__min_samples_split' : [2,3,5,7],\n",
    "                'rf__min_samples_leaf' : [3,10,15]}\n",
    "pipe8_params = {'tvec__max_features' : [100,500,1000,2000],\n",
    "                'tvec__stop_words' : ['english', None],\n",
    "                'tvec__ngram_range' : [(1, 1),(1, 2),(1, 3)],\n",
    "                'rf__n_estimators' : [10,50,100],\n",
    "                'rf__max_features' : [10, 22, 31, 44], #root of vector max features\n",
    "                'rf__max_depth' : [5, 7, 10],\n",
    "                'rf__min_samples_split' : [2,3,5,7],\n",
    "                'rf__min_samples_leaf' : [3,10,15]}\n",
    "pipe9_params = {'cvec__max_features' : [100,500,1000,2000],\n",
    "                'cvec__stop_words' : ['english', None],\n",
    "                'cvec__ngram_range' : [(1, 1),(1, 2),(1, 3)],\n",
    "                'svc__C' : [1,50,100],\n",
    "                'svc__probability' : [True]}\n",
    "pipe10_params = {'tvec__max_features' : [100,500,1000,2000],\n",
    "                'tvec__stop_words' : ['english', None],\n",
    "                'tvec__ngram_range' : [(1, 1),(1, 2),(1, 3)],\n",
    "                'svc__C' : [1,50,100],\n",
    "                'svc__probability' : [True]}\n"
   ]
  },
  {
   "cell_type": "code",
   "execution_count": 113,
   "metadata": {
    "colab": {},
    "colab_type": "code",
    "id": "dtjtwuwQM5J8"
   },
   "outputs": [],
   "source": [
    "gs1 = GridSearchCV(pipe1,\n",
    "                   param_grid = pipe1_params,\n",
    "                   cv = 5, n_jobs = -1)\n",
    "\n",
    "gs2 = GridSearchCV(pipe2,\n",
    "                   param_grid = pipe2_params,\n",
    "                   cv = 5, n_jobs = -1)\n",
    "\n",
    "gs3 = GridSearchCV(pipe3,\n",
    "                   param_grid = pipe3_params,\n",
    "                   cv = 5, n_jobs = -1)\n",
    "\n",
    "gs4 = GridSearchCV(pipe4,\n",
    "                   param_grid = pipe4_params,\n",
    "                   cv = 5, n_jobs = -1)\n",
    "\n",
    "gs5 = GridSearchCV(pipe5,\n",
    "                   param_grid = pipe5_params,\n",
    "                   cv = 5, n_jobs = -1)\n",
    "\n",
    "gs6 = GridSearchCV(pipe6,\n",
    "                   param_grid = pipe6_params,\n",
    "                   cv = 5, n_jobs = -1)\n",
    "\n",
    "gs7 = GridSearchCV(pipe7,\n",
    "                   param_grid = pipe7_params,\n",
    "                   cv = 5, n_jobs = -1)\n",
    "\n",
    "gs8 = GridSearchCV(pipe8,\n",
    "                   param_grid = pipe8_params,\n",
    "                   cv = 5, n_jobs = -1)\n",
    "\n",
    "gs9 = GridSearchCV(pipe9,\n",
    "                   param_grid = pipe9_params,\n",
    "                   cv = 5, n_jobs = -1)\n",
    "\n",
    "gs10 = GridSearchCV(pipe10,\n",
    "                   param_grid = pipe10_params,\n",
    "                   cv = 5, n_jobs = -1)"
   ]
  },
  {
   "cell_type": "code",
   "execution_count": 37,
   "metadata": {
    "colab": {},
    "colab_type": "code",
    "id": "DNHi_mHzM5KA"
   },
   "outputs": [],
   "source": [
    "def gsfittrain(gsnum):\n",
    "    gsnum.fit(X_train, y_train)\n",
    "    gsnum_model = gsnum.best_estimator_\n",
    "    print (gsnum.best_score_)\n",
    "    print (gsnum.best_params_)\n",
    "    return gsnum_model"
   ]
  },
  {
   "cell_type": "code",
   "execution_count": 14,
   "metadata": {
    "colab": {},
    "colab_type": "code",
    "id": "a7iIOjIIM5KC",
    "outputId": "8492ec87-24c8-44ed-bffc-028ceae275b2",
    "scrolled": true
   },
   "outputs": [
    {
     "name": "stdout",
     "output_type": "stream",
     "text": [
      "0.6087155963302753\n",
      "{'cvec__max_features': 50, 'cvec__ngram_range': (1, 1), 'cvec__stop_words': None, 'lr__penalty': 'l2'}\n"
     ]
    }
   ],
   "source": [
    "gs1_model = gsfittrain(gs1)"
   ]
  },
  {
   "cell_type": "code",
   "execution_count": 15,
   "metadata": {
    "colab": {},
    "colab_type": "code",
    "id": "-reu8BYQM5KG",
    "outputId": "df486abd-23cd-4153-9d61-f3ab75d9c7b7"
   },
   "outputs": [
    {
     "name": "stdout",
     "output_type": "stream",
     "text": [
      "0.6192660550458715\n",
      "{'lr__penalty': 'l2', 'tvec__max_features': 1000, 'tvec__ngram_range': (1, 2), 'tvec__stop_words': None}\n"
     ]
    }
   ],
   "source": [
    "gs2_model = gsfittrain(gs2)"
   ]
  },
  {
   "cell_type": "code",
   "execution_count": 16,
   "metadata": {
    "colab": {},
    "colab_type": "code",
    "id": "FQaHDNAFM5KJ",
    "outputId": "f3d9edf8-f649-43a5-f95b-a07fcba372c9"
   },
   "outputs": [
    {
     "name": "stdout",
     "output_type": "stream",
     "text": [
      "0.5807339449541284\n",
      "{'cvec__max_features': 100, 'cvec__ngram_range': (1, 3), 'cvec__stop_words': None, 'knn__n_neighbors': 85, 'knn__p': 2, 'knn__weights': 'uniform'}\n"
     ]
    }
   ],
   "source": [
    "gs3_model = gsfittrain(gs3)\n"
   ]
  },
  {
   "cell_type": "code",
   "execution_count": 17,
   "metadata": {
    "colab": {},
    "colab_type": "code",
    "id": "6JqNHxdkM5KM",
    "outputId": "580ed599-dc6d-44e0-b797-38c19fb6bf07"
   },
   "outputs": [
    {
     "name": "stdout",
     "output_type": "stream",
     "text": [
      "0.6128440366972477\n",
      "{'knn__n_neighbors': 75, 'knn__p': 2, 'knn__weights': 'distance', 'tvec__max_features': 500, 'tvec__ngram_range': (1, 1), 'tvec__stop_words': None}\n"
     ]
    }
   ],
   "source": [
    "gs4_model = gsfittrain(gs4)"
   ]
  },
  {
   "cell_type": "code",
   "execution_count": 18,
   "metadata": {
    "colab": {},
    "colab_type": "code",
    "id": "pAbhgMqPM5KO",
    "outputId": "7999559b-b805-4bb6-f214-3bbba56ccdde"
   },
   "outputs": [
    {
     "name": "stdout",
     "output_type": "stream",
     "text": [
      "0.6307339449541284\n",
      "{'cvec__max_features': 2000, 'cvec__ngram_range': (1, 2), 'cvec__stop_words': None}\n"
     ]
    }
   ],
   "source": [
    "gs5_model = gsfittrain(gs5)"
   ]
  },
  {
   "cell_type": "code",
   "execution_count": 19,
   "metadata": {
    "colab": {},
    "colab_type": "code",
    "id": "Aybo-BDwM5KQ",
    "outputId": "d3df33b6-4334-41eb-8a24-5cd0656480b7"
   },
   "outputs": [
    {
     "name": "stdout",
     "output_type": "stream",
     "text": [
      "0.631651376146789\n",
      "{'tvec__max_features': 2000, 'tvec__ngram_range': (1, 2), 'tvec__stop_words': None}\n"
     ]
    }
   ],
   "source": [
    "gs6_model = gsfittrain(gs6)"
   ]
  },
  {
   "cell_type": "code",
   "execution_count": 20,
   "metadata": {
    "colab": {},
    "colab_type": "code",
    "id": "Xs0IWjxBM5KT",
    "outputId": "86f3b257-2892-415d-fd4c-732d1f6ea087"
   },
   "outputs": [
    {
     "name": "stdout",
     "output_type": "stream",
     "text": [
      "0.6224770642201835\n",
      "{'cvec__max_features': 500, 'cvec__ngram_range': (1, 3), 'cvec__stop_words': 'english', 'rf__max_depth': 10, 'rf__max_features': 44, 'rf__min_samples_leaf': 10, 'rf__min_samples_split': 5, 'rf__n_estimators': 10}\n"
     ]
    }
   ],
   "source": [
    "gs7_model = gsfittrain(gs7)"
   ]
  },
  {
   "cell_type": "code",
   "execution_count": 21,
   "metadata": {
    "colab": {},
    "colab_type": "code",
    "id": "f4HOCQNtM5KW",
    "outputId": "9cf63977-041f-4136-a9c8-79d366f69031"
   },
   "outputs": [
    {
     "name": "stdout",
     "output_type": "stream",
     "text": [
      "0.6243119266055046\n",
      "{'rf__max_depth': 10, 'rf__max_features': 22, 'rf__min_samples_leaf': 10, 'rf__min_samples_split': 3, 'rf__n_estimators': 100, 'tvec__max_features': 500, 'tvec__ngram_range': (1, 1), 'tvec__stop_words': None}\n"
     ]
    }
   ],
   "source": [
    "gs8_model = gsfittrain(gs8)"
   ]
  },
  {
   "cell_type": "code",
   "execution_count": 114,
   "metadata": {},
   "outputs": [
    {
     "name": "stdout",
     "output_type": "stream",
     "text": [
      "0.6197247706422019\n",
      "{'cvec__max_features': 1000, 'cvec__ngram_range': (1, 2), 'cvec__stop_words': 'english', 'svc__C': 1, 'svc__probability': True}\n"
     ]
    }
   ],
   "source": [
    "gs9_model = gsfittrain(gs9)"
   ]
  },
  {
   "cell_type": "code",
   "execution_count": 115,
   "metadata": {},
   "outputs": [
    {
     "name": "stdout",
     "output_type": "stream",
     "text": [
      "0.6362385321100917\n",
      "{'svc__C': 1, 'svc__probability': True, 'tvec__max_features': 2000, 'tvec__ngram_range': (1, 1), 'tvec__stop_words': None}\n"
     ]
    }
   ],
   "source": [
    "gs10_model = gsfittrain(gs10)"
   ]
  },
  {
   "cell_type": "markdown",
   "metadata": {
    "colab_type": "text",
    "id": "ebTPuN8lM5KY"
   },
   "source": [
    "The best scores for each model are generally quite low. We can try to tweak the X input to use only the stemmed versions to see if there is any improvement. Depending on these results, we can attempt a slightly different set of hyperparameters."
   ]
  },
  {
   "cell_type": "markdown",
   "metadata": {
    "colab_type": "text",
    "id": "GWiLwoxnM5KZ"
   },
   "source": [
    "## Modeling Using Stemmed X Values"
   ]
  },
  {
   "cell_type": "code",
   "execution_count": 116,
   "metadata": {
    "colab": {},
    "colab_type": "code",
    "id": "9hvqPSCHM5KZ"
   },
   "outputs": [],
   "source": [
    "X_train, X_test, y_train, y_test = train_test_split(X_stem,\n",
    "                                                    y,\n",
    "                                                    test_size=0.33,\n",
    "                                                    stratify=y,\n",
    "                                                    random_state=42)"
   ]
  },
  {
   "cell_type": "code",
   "execution_count": 23,
   "metadata": {
    "colab": {},
    "colab_type": "code",
    "id": "wmEeCfu1M5Kc",
    "outputId": "1a718341-d246-491c-eed0-2490300457f6"
   },
   "outputs": [
    {
     "name": "stdout",
     "output_type": "stream",
     "text": [
      "0.6137614678899083\n",
      "{'cvec__max_features': 50, 'cvec__ngram_range': (1, 1), 'cvec__stop_words': None, 'lr__penalty': 'l2'}\n"
     ]
    }
   ],
   "source": [
    "gs1_stem_model = gsfittrain(gs1)"
   ]
  },
  {
   "cell_type": "code",
   "execution_count": 24,
   "metadata": {
    "colab": {},
    "colab_type": "code",
    "id": "WtKrPjDCM5Kh",
    "outputId": "4d3bb185-3bc4-4576-8cb7-9d7a12f370a6"
   },
   "outputs": [
    {
     "name": "stdout",
     "output_type": "stream",
     "text": [
      "0.6311926605504586\n",
      "{'lr__penalty': 'l2', 'tvec__max_features': 1000, 'tvec__ngram_range': (1, 1), 'tvec__stop_words': None}\n"
     ]
    }
   ],
   "source": [
    "gs2_stem_model = gsfittrain(gs2)"
   ]
  },
  {
   "cell_type": "code",
   "execution_count": 25,
   "metadata": {
    "colab": {},
    "colab_type": "code",
    "id": "VbDYAg2-M5Kk",
    "outputId": "ef6ce18b-2780-4402-ccb4-7f2b9d14cf2e"
   },
   "outputs": [
    {
     "name": "stdout",
     "output_type": "stream",
     "text": [
      "0.5821100917431192\n",
      "{'cvec__max_features': 100, 'cvec__ngram_range': (1, 2), 'cvec__stop_words': None, 'knn__n_neighbors': 65, 'knn__p': 2, 'knn__weights': 'uniform'}\n"
     ]
    }
   ],
   "source": [
    "gs3_stem_model = gsfittrain(gs3)"
   ]
  },
  {
   "cell_type": "code",
   "execution_count": 26,
   "metadata": {
    "colab": {},
    "colab_type": "code",
    "id": "10VO30dNM5Kn",
    "outputId": "6b51e57d-d916-4324-ebd4-9ed756d5ff54"
   },
   "outputs": [
    {
     "name": "stdout",
     "output_type": "stream",
     "text": [
      "0.6114678899082568\n",
      "{'knn__n_neighbors': 65, 'knn__p': 2, 'knn__weights': 'distance', 'tvec__max_features': 1000, 'tvec__ngram_range': (1, 1), 'tvec__stop_words': 'english'}\n"
     ]
    }
   ],
   "source": [
    "gs4_stem_model = gsfittrain(gs4)"
   ]
  },
  {
   "cell_type": "code",
   "execution_count": 27,
   "metadata": {
    "colab": {},
    "colab_type": "code",
    "id": "HLiKSD-IM5Kq",
    "outputId": "a76fa59e-e8d3-4625-d0da-48ab6e333324"
   },
   "outputs": [
    {
     "name": "stdout",
     "output_type": "stream",
     "text": [
      "0.6279816513761467\n",
      "{'cvec__max_features': 2000, 'cvec__ngram_range': (1, 2), 'cvec__stop_words': None}\n"
     ]
    }
   ],
   "source": [
    "gs5_stem_model = gsfittrain(gs5)"
   ]
  },
  {
   "cell_type": "code",
   "execution_count": 28,
   "metadata": {
    "colab": {},
    "colab_type": "code",
    "id": "pmcgL79LM5Kt",
    "outputId": "11a3f612-0afa-4b64-c1f8-11b40a9d0ee5"
   },
   "outputs": [
    {
     "name": "stdout",
     "output_type": "stream",
     "text": [
      "0.6344036697247707\n",
      "{'tvec__max_features': 2000, 'tvec__ngram_range': (1, 3), 'tvec__stop_words': None}\n"
     ]
    }
   ],
   "source": [
    "gs6_stem_model = gsfittrain(gs6)"
   ]
  },
  {
   "cell_type": "code",
   "execution_count": 29,
   "metadata": {
    "colab": {},
    "colab_type": "code",
    "id": "8LDYjhCxM5Kw",
    "outputId": "7f2fdb63-a294-4e53-c7e5-bd15aa5c0d80"
   },
   "outputs": [
    {
     "name": "stdout",
     "output_type": "stream",
     "text": [
      "0.6224770642201836\n",
      "{'cvec__max_features': 500, 'cvec__ngram_range': (1, 2), 'cvec__stop_words': 'english', 'rf__max_depth': 7, 'rf__max_features': 31, 'rf__min_samples_leaf': 15, 'rf__min_samples_split': 5, 'rf__n_estimators': 10}\n"
     ]
    }
   ],
   "source": [
    "gs7_stem_model = gsfittrain(gs7)"
   ]
  },
  {
   "cell_type": "code",
   "execution_count": 30,
   "metadata": {
    "colab": {},
    "colab_type": "code",
    "id": "rDHSY-1eM5K2",
    "outputId": "b6dad561-5edf-43b2-ea0b-f0578d1d6ff1"
   },
   "outputs": [
    {
     "name": "stdout",
     "output_type": "stream",
     "text": [
      "0.6298165137614679\n",
      "{'rf__max_depth': 10, 'rf__max_features': 31, 'rf__min_samples_leaf': 15, 'rf__min_samples_split': 5, 'rf__n_estimators': 100, 'tvec__max_features': 500, 'tvec__ngram_range': (1, 2), 'tvec__stop_words': 'english'}\n"
     ]
    }
   ],
   "source": [
    "gs8_stem_model = gsfittrain(gs8)"
   ]
  },
  {
   "cell_type": "code",
   "execution_count": 117,
   "metadata": {},
   "outputs": [
    {
     "name": "stdout",
     "output_type": "stream",
     "text": [
      "0.6486238532110091\n",
      "{'cvec__max_features': 500, 'cvec__ngram_range': (1, 1), 'cvec__stop_words': 'english', 'svc__C': 1, 'svc__probability': True}\n"
     ]
    }
   ],
   "source": [
    "gs9_stem_model = gsfittrain(gs9)"
   ]
  },
  {
   "cell_type": "code",
   "execution_count": 118,
   "metadata": {},
   "outputs": [
    {
     "name": "stdout",
     "output_type": "stream",
     "text": [
      "0.6646788990825688\n",
      "{'svc__C': 1, 'svc__probability': True, 'tvec__max_features': 2000, 'tvec__ngram_range': (1, 1), 'tvec__stop_words': 'english'}\n"
     ]
    }
   ],
   "source": [
    "gs10_stem_model = gsfittrain(gs10)"
   ]
  },
  {
   "cell_type": "markdown",
   "metadata": {
    "colab_type": "text",
    "id": "tlQzEJlgM5K8"
   },
   "source": [
    "Using stemmed values seems to have improved results across the board albeit at very marginal levels.\n",
    "\n",
    "Further changes of the hyperparameters were conducted but did not yield any different results as the gridsearch selects nearly all the same hyperparameters as before. This could be due to the posts being generally short so that the occurences don't change that much. Consider re-training using a larger train sample to improve score and eliminating count vectorizer models to save modelling time as they are all outperformed by their TF-IDF vectorizer counterparts."
   ]
  },
  {
   "cell_type": "markdown",
   "metadata": {
    "colab_type": "text",
    "id": "BdlhtE8jM5K9"
   },
   "source": [
    "## Change Train/Test Split to 80:20 from 66:33"
   ]
  },
  {
   "cell_type": "markdown",
   "metadata": {
    "colab_type": "text",
    "id": "PFsv_QkYM5K-"
   },
   "source": [
    "We will adjust the train sample to be larger to see if we can improve performance."
   ]
  },
  {
   "cell_type": "code",
   "execution_count": 119,
   "metadata": {
    "colab": {},
    "colab_type": "code",
    "id": "by_ehCNQM5K_"
   },
   "outputs": [],
   "source": [
    "X_train, X_test, y_train, y_test = train_test_split(X_stem,\n",
    "                                                    y,\n",
    "                                                    test_size=0.2,\n",
    "                                                    stratify=y,\n",
    "                                                    random_state=42)"
   ]
  },
  {
   "cell_type": "code",
   "execution_count": 33,
   "metadata": {
    "colab": {},
    "colab_type": "code",
    "id": "y_GD8hvSM5LK",
    "outputId": "b34f883b-9797-45e2-c14c-ed51af6f5c3b"
   },
   "outputs": [
    {
     "name": "stdout",
     "output_type": "stream",
     "text": [
      "0.6400376494906246\n",
      "{'lr__penalty': 'l2', 'tvec__max_features': 1000, 'tvec__ngram_range': (1, 1), 'tvec__stop_words': 'english'}\n"
     ]
    }
   ],
   "source": [
    "gs2_stem_model_adj = gsfittrain(gs2)"
   ]
  },
  {
   "cell_type": "code",
   "execution_count": 35,
   "metadata": {
    "colab": {},
    "colab_type": "code",
    "id": "7vMEXWiXM5LX",
    "outputId": "85c93d25-7e09-4fee-e80c-5f9341347cae"
   },
   "outputs": [
    {
     "name": "stdout",
     "output_type": "stream",
     "text": [
      "0.627741768787834\n",
      "{'knn__n_neighbors': 65, 'knn__p': 2, 'knn__weights': 'distance', 'tvec__max_features': 1000, 'tvec__ngram_range': (1, 3), 'tvec__stop_words': 'english'}\n"
     ]
    }
   ],
   "source": [
    "gs4_stem_model_adj = gsfittrain(gs4)"
   ]
  },
  {
   "cell_type": "code",
   "execution_count": 37,
   "metadata": {
    "colab": {},
    "colab_type": "code",
    "id": "467gMTMeM5Ly",
    "outputId": "a2415ff1-aabc-40d7-b149-bb81c948ce45"
   },
   "outputs": [
    {
     "name": "stdout",
     "output_type": "stream",
     "text": [
      "0.636959988188395\n",
      "{'tvec__max_features': 2000, 'tvec__ngram_range': (1, 2), 'tvec__stop_words': 'english'}\n"
     ]
    }
   ],
   "source": [
    "gs6_stem_model_adj = gsfittrain(gs6)"
   ]
  },
  {
   "cell_type": "code",
   "execution_count": 39,
   "metadata": {
    "colab": {},
    "colab_type": "code",
    "id": "FvMBA8zaM5L7",
    "outputId": "9557a797-2444-40b0-956a-8b5f8b39b906"
   },
   "outputs": [
    {
     "name": "stdout",
     "output_type": "stream",
     "text": [
      "0.628899306068212\n",
      "{'rf__max_depth': 10, 'rf__max_features': 44, 'rf__min_samples_leaf': 15, 'rf__min_samples_split': 7, 'rf__n_estimators': 100, 'tvec__max_features': 500, 'tvec__ngram_range': (1, 3), 'tvec__stop_words': None}\n"
     ]
    }
   ],
   "source": [
    "gs8_stem_model_adj = gsfittrain(gs8)"
   ]
  },
  {
   "cell_type": "code",
   "execution_count": 120,
   "metadata": {},
   "outputs": [
    {
     "name": "stdout",
     "output_type": "stream",
     "text": [
      "0.6680776613022295\n",
      "{'svc__C': 50, 'svc__probability': True, 'tvec__max_features': 2000, 'tvec__ngram_range': (1, 1), 'tvec__stop_words': None}\n"
     ]
    }
   ],
   "source": [
    "gs10_stem_model_adj = gsfittrain(gs10)"
   ]
  },
  {
   "cell_type": "markdown",
   "metadata": {
    "colab_type": "text",
    "id": "rzg9KYlxM5MC"
   },
   "source": [
    "The scores are generally still unsatisfactory even with larger a training set. \n",
    "\n",
    "There are two possibilities we can consider. Either the datasets are too similar to be separated by tokenized words or the posts themselves do not contain enough information (eg. the posts are too short) so the models are not able to classify them accurately. \n",
    "\n",
    "Combining the title and selftext may yield better results in case there isn't enough data with just the selftext or just the title in cases where there is no selftext (eg. results will be either title+selftext or title+title). Failing this, we may conclude that the datasets are not separable using our models."
   ]
  },
  {
   "cell_type": "markdown",
   "metadata": {
    "colab_type": "text",
    "id": "zfj0-QcoM5MC"
   },
   "source": [
    "## Engineer Additional Feature"
   ]
  },
  {
   "cell_type": "markdown",
   "metadata": {},
   "source": [
    "An additional step when creating the new feature will be to also include stemming the titles prior to combining as earlier models showed improvement upon stemming."
   ]
  },
  {
   "cell_type": "code",
   "execution_count": 46,
   "metadata": {
    "colab": {},
    "colab_type": "code",
    "id": "rBCtkh8iM5MD"
   },
   "outputs": [],
   "source": [
    "for i in range(len(data['title'])):\n",
    "    if type(data.loc[i,'title']) == float: ###code inserted to identify rows that are float that need to be actioned on\n",
    "        print (i)\n",
    "    tokens = (data.loc[i,'title']).split()\n",
    "    stem_tokens = [p_stemmer.stem(j) for j in tokens]\n",
    "    data.loc[i,'title_stem'] = \" \".join(stem_tokens)"
   ]
  },
  {
   "cell_type": "code",
   "execution_count": 47,
   "metadata": {
    "colab": {},
    "colab_type": "code",
    "id": "mOtky0ZyM5MM"
   },
   "outputs": [],
   "source": [
    "data['title_selftxt'] = data['title_stem'] + \" \" + data['selftext_stem']"
   ]
  },
  {
   "cell_type": "code",
   "execution_count": 48,
   "metadata": {
    "colab": {},
    "colab_type": "code",
    "id": "7g1kL8fHM5MP",
    "outputId": "4f05dae2-2944-49dc-bc9e-e055f9cfef70"
   },
   "outputs": [
    {
     "data": {
      "text/html": [
       "<div>\n",
       "<style scoped>\n",
       "    .dataframe tbody tr th:only-of-type {\n",
       "        vertical-align: middle;\n",
       "    }\n",
       "\n",
       "    .dataframe tbody tr th {\n",
       "        vertical-align: top;\n",
       "    }\n",
       "\n",
       "    .dataframe thead th {\n",
       "        text-align: right;\n",
       "    }\n",
       "</style>\n",
       "<table border=\"1\" class=\"dataframe\">\n",
       "  <thead>\n",
       "    <tr style=\"text-align: right;\">\n",
       "      <th></th>\n",
       "      <th>subreddit</th>\n",
       "      <th>selftext</th>\n",
       "      <th>title</th>\n",
       "      <th>selftext_stem</th>\n",
       "      <th>title_stem</th>\n",
       "      <th>title_selftxt</th>\n",
       "    </tr>\n",
       "  </thead>\n",
       "  <tbody>\n",
       "    <tr>\n",
       "      <th>0</th>\n",
       "      <td>0</td>\n",
       "      <td>like that scene of taken of liam neeson jumpin...</td>\n",
       "      <td>in cinematography why are cuts considered bad</td>\n",
       "      <td>like that scene of taken of liam neeson jump t...</td>\n",
       "      <td>in cinematographi whi are cut consid bad</td>\n",
       "      <td>in cinematographi whi are cut consid bad like ...</td>\n",
       "    </tr>\n",
       "    <tr>\n",
       "      <th>1</th>\n",
       "      <td>0</td>\n",
       "      <td>i need an advice since i was grade student i w...</td>\n",
       "      <td>this decision will completely change my life</td>\n",
       "      <td>i need an advic sinc i wa grade student i want...</td>\n",
       "      <td>thi decis will complet chang my life</td>\n",
       "      <td>thi decis will complet chang my life i need an...</td>\n",
       "    </tr>\n",
       "    <tr>\n",
       "      <th>2</th>\n",
       "      <td>0</td>\n",
       "      <td>every source i found says clinical depression ...</td>\n",
       "      <td>what gave some people the idea that clinical d...</td>\n",
       "      <td>everi sourc i found say clinic depress is caus...</td>\n",
       "      <td>what gave some peopl the idea that clinic depr...</td>\n",
       "      <td>what gave some peopl the idea that clinic depr...</td>\n",
       "    </tr>\n",
       "    <tr>\n",
       "      <th>3</th>\n",
       "      <td>0</td>\n",
       "      <td>my little brother got an xbox one and i got a ...</td>\n",
       "      <td>what exactly is the logic behind birthday pres...</td>\n",
       "      <td>my littl brother got an xbox one and i got a t...</td>\n",
       "      <td>what exactli is the logic behind birthday pres...</td>\n",
       "      <td>what exactli is the logic behind birthday pres...</td>\n",
       "    </tr>\n",
       "    <tr>\n",
       "      <th>4</th>\n",
       "      <td>0</td>\n",
       "      <td>do most people go through a phase in their lif...</td>\n",
       "      <td>do most people go through a phase in their lif...</td>\n",
       "      <td>do most peopl go through a phase in their life...</td>\n",
       "      <td>do most peopl go through a phase in their life...</td>\n",
       "      <td>do most peopl go through a phase in their life...</td>\n",
       "    </tr>\n",
       "    <tr>\n",
       "      <th>...</th>\n",
       "      <td>...</td>\n",
       "      <td>...</td>\n",
       "      <td>...</td>\n",
       "      <td>...</td>\n",
       "      <td>...</td>\n",
       "      <td>...</td>\n",
       "    </tr>\n",
       "    <tr>\n",
       "      <th>3249</th>\n",
       "      <td>1</td>\n",
       "      <td>like in the uk you re allowed to go outside to...</td>\n",
       "      <td>do people judge you for walking round the park</td>\n",
       "      <td>like in the uk you re allow to go outsid to ex...</td>\n",
       "      <td>do peopl judg you for walk round the park</td>\n",
       "      <td>do peopl judg you for walk round the park like...</td>\n",
       "    </tr>\n",
       "    <tr>\n",
       "      <th>3250</th>\n",
       "      <td>1</td>\n",
       "      <td>i know that our body s become paralyzed to pre...</td>\n",
       "      <td>why don t we sneeze while sleeping</td>\n",
       "      <td>i know that our bodi s becom paralyz to preven...</td>\n",
       "      <td>whi don t we sneez while sleep</td>\n",
       "      <td>whi don t we sneez while sleep i know that our...</td>\n",
       "    </tr>\n",
       "    <tr>\n",
       "      <th>3251</th>\n",
       "      <td>1</td>\n",
       "      <td>i have a an android my volume is up but no sou...</td>\n",
       "      <td>audio for mobile reddit app</td>\n",
       "      <td>i have a an android my volum is up but no soun...</td>\n",
       "      <td>audio for mobil reddit app</td>\n",
       "      <td>audio for mobil reddit app i have a an android...</td>\n",
       "    </tr>\n",
       "    <tr>\n",
       "      <th>3252</th>\n",
       "      <td>1</td>\n",
       "      <td>so i read the news line about the u s having a...</td>\n",
       "      <td>trillion bailout</td>\n",
       "      <td>so i read the news line about the u s have a t...</td>\n",
       "      <td>trillion bailout</td>\n",
       "      <td>trillion bailout so i read the news line about...</td>\n",
       "    </tr>\n",
       "    <tr>\n",
       "      <th>3253</th>\n",
       "      <td>1</td>\n",
       "      <td>my mom seems to be annoyed when i fidget but i...</td>\n",
       "      <td>i fidget a lot</td>\n",
       "      <td>my mom seem to be annoy when i fidget but i do...</td>\n",
       "      <td>i fidget a lot</td>\n",
       "      <td>i fidget a lot my mom seem to be annoy when i ...</td>\n",
       "    </tr>\n",
       "  </tbody>\n",
       "</table>\n",
       "<p>3254 rows × 6 columns</p>\n",
       "</div>"
      ],
      "text/plain": [
       "      subreddit                                           selftext  \\\n",
       "0             0  like that scene of taken of liam neeson jumpin...   \n",
       "1             0  i need an advice since i was grade student i w...   \n",
       "2             0  every source i found says clinical depression ...   \n",
       "3             0  my little brother got an xbox one and i got a ...   \n",
       "4             0  do most people go through a phase in their lif...   \n",
       "...         ...                                                ...   \n",
       "3249          1  like in the uk you re allowed to go outside to...   \n",
       "3250          1  i know that our body s become paralyzed to pre...   \n",
       "3251          1  i have a an android my volume is up but no sou...   \n",
       "3252          1  so i read the news line about the u s having a...   \n",
       "3253          1  my mom seems to be annoyed when i fidget but i...   \n",
       "\n",
       "                                                  title  \\\n",
       "0         in cinematography why are cuts considered bad   \n",
       "1          this decision will completely change my life   \n",
       "2     what gave some people the idea that clinical d...   \n",
       "3     what exactly is the logic behind birthday pres...   \n",
       "4     do most people go through a phase in their lif...   \n",
       "...                                                 ...   \n",
       "3249     do people judge you for walking round the park   \n",
       "3250                 why don t we sneeze while sleeping   \n",
       "3251                        audio for mobile reddit app   \n",
       "3252                                   trillion bailout   \n",
       "3253                                     i fidget a lot   \n",
       "\n",
       "                                          selftext_stem  \\\n",
       "0     like that scene of taken of liam neeson jump t...   \n",
       "1     i need an advic sinc i wa grade student i want...   \n",
       "2     everi sourc i found say clinic depress is caus...   \n",
       "3     my littl brother got an xbox one and i got a t...   \n",
       "4     do most peopl go through a phase in their life...   \n",
       "...                                                 ...   \n",
       "3249  like in the uk you re allow to go outsid to ex...   \n",
       "3250  i know that our bodi s becom paralyz to preven...   \n",
       "3251  i have a an android my volum is up but no soun...   \n",
       "3252  so i read the news line about the u s have a t...   \n",
       "3253  my mom seem to be annoy when i fidget but i do...   \n",
       "\n",
       "                                             title_stem  \\\n",
       "0              in cinematographi whi are cut consid bad   \n",
       "1                  thi decis will complet chang my life   \n",
       "2     what gave some peopl the idea that clinic depr...   \n",
       "3     what exactli is the logic behind birthday pres...   \n",
       "4     do most peopl go through a phase in their life...   \n",
       "...                                                 ...   \n",
       "3249          do peopl judg you for walk round the park   \n",
       "3250                     whi don t we sneez while sleep   \n",
       "3251                         audio for mobil reddit app   \n",
       "3252                                   trillion bailout   \n",
       "3253                                     i fidget a lot   \n",
       "\n",
       "                                          title_selftxt  \n",
       "0     in cinematographi whi are cut consid bad like ...  \n",
       "1     thi decis will complet chang my life i need an...  \n",
       "2     what gave some peopl the idea that clinic depr...  \n",
       "3     what exactli is the logic behind birthday pres...  \n",
       "4     do most peopl go through a phase in their life...  \n",
       "...                                                 ...  \n",
       "3249  do peopl judg you for walk round the park like...  \n",
       "3250  whi don t we sneez while sleep i know that our...  \n",
       "3251  audio for mobil reddit app i have a an android...  \n",
       "3252  trillion bailout so i read the news line about...  \n",
       "3253  i fidget a lot my mom seem to be annoy when i ...  \n",
       "\n",
       "[3254 rows x 6 columns]"
      ]
     },
     "execution_count": 48,
     "metadata": {},
     "output_type": "execute_result"
    }
   ],
   "source": [
    "data"
   ]
  },
  {
   "cell_type": "code",
   "execution_count": 257,
   "metadata": {},
   "outputs": [
    {
     "name": "stdout",
     "output_type": "stream",
     "text": [
      "<class 'pandas.core.frame.DataFrame'>\n",
      "RangeIndex: 3254 entries, 0 to 3253\n",
      "Data columns (total 6 columns):\n",
      " #   Column         Non-Null Count  Dtype \n",
      "---  ------         --------------  ----- \n",
      " 0   subreddit      3254 non-null   int64 \n",
      " 1   selftext       3254 non-null   object\n",
      " 2   title          3254 non-null   object\n",
      " 3   selftext_stem  3254 non-null   object\n",
      " 4   title_stem     3254 non-null   object\n",
      " 5   title_selftxt  3254 non-null   object\n",
      "dtypes: int64(1), object(5)\n",
      "memory usage: 152.7+ KB\n"
     ]
    }
   ],
   "source": [
    "data.info()"
   ]
  },
  {
   "cell_type": "markdown",
   "metadata": {
    "colab_type": "text",
    "id": "NjLs0YSyM5MX"
   },
   "source": [
    "## Remodel With New Feature"
   ]
  },
  {
   "cell_type": "code",
   "execution_count": 121,
   "metadata": {
    "colab": {},
    "colab_type": "code",
    "id": "4Lrd6kyHM5MY"
   },
   "outputs": [],
   "source": [
    "X_stem = data['title_selftxt'] #using newly created feature"
   ]
  },
  {
   "cell_type": "code",
   "execution_count": 122,
   "metadata": {
    "colab": {},
    "colab_type": "code",
    "id": "K6fNHzDcM5Mb"
   },
   "outputs": [],
   "source": [
    "X_train, X_test, y_train, y_test = train_test_split(X_stem,\n",
    "                                                    y,\n",
    "                                                    test_size=0.2,\n",
    "                                                    stratify=y,\n",
    "                                                    random_state=42)"
   ]
  },
  {
   "cell_type": "code",
   "execution_count": 46,
   "metadata": {
    "colab": {},
    "colab_type": "code",
    "id": "tNzyZxR1M5Mj",
    "outputId": "342567e4-d2cb-40be-8d35-6357a4b141bc"
   },
   "outputs": [
    {
     "name": "stdout",
     "output_type": "stream",
     "text": [
      "0.6515598700723461\n",
      "{'lr__penalty': 'l2', 'tvec__max_features': 1000, 'tvec__ngram_range': (1, 1), 'tvec__stop_words': None}\n"
     ]
    }
   ],
   "source": [
    "gs2_stem_model_adj = gsfittrain(gs2)"
   ]
  },
  {
   "cell_type": "code",
   "execution_count": 48,
   "metadata": {
    "colab": {},
    "colab_type": "code",
    "id": "YhDrCdojM5M1",
    "outputId": "feca8834-8b97-4a17-e443-a0184564653f"
   },
   "outputs": [
    {
     "name": "stdout",
     "output_type": "stream",
     "text": [
      "0.6365768492543924\n",
      "{'knn__n_neighbors': 75, 'knn__p': 2, 'knn__weights': 'distance', 'tvec__max_features': 1000, 'tvec__ngram_range': (1, 3), 'tvec__stop_words': 'english'}\n"
     ]
    }
   ],
   "source": [
    "gs4_stem_model_adj = gsfittrain(gs4)"
   ]
  },
  {
   "cell_type": "code",
   "execution_count": 50,
   "metadata": {
    "colab": {},
    "colab_type": "code",
    "id": "LXrjLDNyM5NE",
    "outputId": "5072a9e8-37c1-428f-c851-f84bb734c752"
   },
   "outputs": [
    {
     "name": "stdout",
     "output_type": "stream",
     "text": [
      "0.6611560608297652\n",
      "{'tvec__max_features': 2000, 'tvec__ngram_range': (1, 1), 'tvec__stop_words': 'english'}\n"
     ]
    }
   ],
   "source": [
    "gs6_stem_model_adj = gsfittrain(gs6)"
   ]
  },
  {
   "cell_type": "code",
   "execution_count": 52,
   "metadata": {
    "colab": {},
    "colab_type": "code",
    "id": "2XRPatCYM5NV",
    "outputId": "39fa767d-fe94-4e4d-e94e-623d1f930884"
   },
   "outputs": [
    {
     "name": "stdout",
     "output_type": "stream",
     "text": [
      "0.6419592499630886\n",
      "{'rf__max_depth': 10, 'rf__max_features': 31, 'rf__min_samples_leaf': 10, 'rf__min_samples_split': 3, 'rf__n_estimators': 50, 'tvec__max_features': 500, 'tvec__ngram_range': (1, 2), 'tvec__stop_words': 'english'}\n"
     ]
    }
   ],
   "source": [
    "gs8_stem_model_adj = gsfittrain(gs8)"
   ]
  },
  {
   "cell_type": "code",
   "execution_count": 123,
   "metadata": {
    "colab": {},
    "colab_type": "code",
    "id": "AMi58QRMM5Nb"
   },
   "outputs": [
    {
     "name": "stdout",
     "output_type": "stream",
     "text": [
      "0.6680776613022295\n",
      "{'svc__C': 50, 'svc__probability': True, 'tvec__max_features': 2000, 'tvec__ngram_range': (1, 1), 'tvec__stop_words': None}\n"
     ]
    }
   ],
   "source": [
    "gs10_stem_model_adj = gsfittrain(gs10)"
   ]
  },
  {
   "cell_type": "markdown",
   "metadata": {},
   "source": [
    "Based on these cross validation scores, the best model was the SVM Classifier. We will create predictions against the test set to create a confusion matrix which will help us visualize the model's performance better."
   ]
  },
  {
   "cell_type": "markdown",
   "metadata": {
    "colab_type": "text",
    "id": "_EO8TYBZM5Ng"
   },
   "source": [
    "## Score Against Train and Test Datasets"
   ]
  },
  {
   "cell_type": "markdown",
   "metadata": {},
   "source": [
    "Before we create the confusion matrix, let's see how all our models performed overall against the training set as well as the test set. For models using count vectorizer, we will use the last model iterated on (the smaller training size and with the original 'selftext' feature)."
   ]
  },
  {
   "cell_type": "code",
   "execution_count": 53,
   "metadata": {
    "colab": {},
    "colab_type": "code",
    "id": "qGi-y5mbM5Ng",
    "outputId": "2ae3acdd-4e99-4487-8c39-7cf13aec42e0"
   },
   "outputs": [
    {
     "name": "stdout",
     "output_type": "stream",
     "text": [
      "0.7038033038801383 ,  0.6405529953917051\n"
     ]
    }
   ],
   "source": [
    "print(gs1_stem_model.score(X_train, y_train),\", \", gs1_stem_model.score(X_test, y_test)) #logistic, cvec"
   ]
  },
  {
   "cell_type": "code",
   "execution_count": 54,
   "metadata": {
    "colab": {},
    "colab_type": "code",
    "id": "cpewVkMwM5Nm",
    "outputId": "215b1f58-290f-4a7c-f367-5b9fb5fade2e"
   },
   "outputs": [
    {
     "name": "stdout",
     "output_type": "stream",
     "text": [
      "0.7767960046100653 ,  0.6866359447004609\n"
     ]
    }
   ],
   "source": [
    "print(gs2_stem_model_adj.score(X_train, y_train),\", \", gs2_stem_model_adj.score(X_test, y_test)) #logistic, tvec"
   ]
  },
  {
   "cell_type": "code",
   "execution_count": 55,
   "metadata": {
    "colab": {},
    "colab_type": "code",
    "id": "zq1y43qOM5Nr",
    "outputId": "23440df1-6005-49a0-9ddc-0bbf04a8a123"
   },
   "outputs": [
    {
     "name": "stdout",
     "output_type": "stream",
     "text": [
      "0.9846331156358048 ,  0.565284178187404\n"
     ]
    }
   ],
   "source": [
    "print(gs3_stem_model.score(X_train, y_train),\", \", gs3_stem_model.score(X_test, y_test)) #knn, cvec"
   ]
  },
  {
   "cell_type": "code",
   "execution_count": 56,
   "metadata": {
    "colab": {},
    "colab_type": "code",
    "id": "7L4EkqM-M5Nv",
    "outputId": "13276f8a-d0e4-4c1b-de5c-a7c0f87311a2"
   },
   "outputs": [
    {
     "name": "stdout",
     "output_type": "stream",
     "text": [
      "0.9976949673453708 ,  0.6251920122887865\n"
     ]
    }
   ],
   "source": [
    "print(gs4_stem_model_adj.score(X_train, y_train),\", \", gs4_stem_model_adj.score(X_test, y_test)) #knn, tvec"
   ]
  },
  {
   "cell_type": "code",
   "execution_count": 57,
   "metadata": {
    "colab": {},
    "colab_type": "code",
    "id": "RHIWTHoCM5Nz",
    "outputId": "d92dd458-e275-4d02-8417-28a85c8908ee"
   },
   "outputs": [
    {
     "name": "stdout",
     "output_type": "stream",
     "text": [
      "0.7890895121014214 ,  0.6774193548387096\n"
     ]
    }
   ],
   "source": [
    "print(gs5_stem_model.score(X_train, y_train),\", \", gs5_stem_model.score(X_test, y_test)) #multinomial nb, cvec"
   ]
  },
  {
   "cell_type": "code",
   "execution_count": 58,
   "metadata": {
    "colab": {},
    "colab_type": "code",
    "id": "8AJklV12M5N8",
    "outputId": "3ddc98b3-de6b-412a-eaba-4c78a008ae89"
   },
   "outputs": [
    {
     "name": "stdout",
     "output_type": "stream",
     "text": [
      "0.8259700345754898 ,  0.663594470046083\n"
     ]
    }
   ],
   "source": [
    "print(gs6_stem_model_adj.score(X_train, y_train),\", \", gs6_stem_model_adj.score(X_test, y_test)) #multinomial nb, tvec"
   ]
  },
  {
   "cell_type": "code",
   "execution_count": 59,
   "metadata": {
    "colab": {},
    "colab_type": "code",
    "id": "adEhqApaM5N-",
    "outputId": "b16a0a6d-54fc-4b9d-a0dd-42bcb96f049c"
   },
   "outputs": [
    {
     "name": "stdout",
     "output_type": "stream",
     "text": [
      "0.7349212447176335 ,  0.6328725038402457\n"
     ]
    }
   ],
   "source": [
    "print(gs7_stem_model.score(X_train, y_train),\", \", gs7_stem_model.score(X_test, y_test)) #random forest, cvec"
   ]
  },
  {
   "cell_type": "code",
   "execution_count": 60,
   "metadata": {
    "colab": {},
    "colab_type": "code",
    "id": "6t3mHFv2M5OB",
    "outputId": "3509a05c-00c6-477f-8ecc-06639f6a4f1d"
   },
   "outputs": [
    {
     "name": "stdout",
     "output_type": "stream",
     "text": [
      "0.7118709181713407 ,  0.642089093701997\n"
     ]
    }
   ],
   "source": [
    "print(gs8_stem_model_adj.score(X_train, y_train),\", \", gs8_stem_model_adj.score(X_test, y_test)) #random forest, tvec"
   ]
  },
  {
   "cell_type": "code",
   "execution_count": 97,
   "metadata": {
    "colab_type": "text",
    "id": "nNuXQdFJM5OF"
   },
   "outputs": [
    {
     "name": "stdout",
     "output_type": "stream",
     "text": [
      "0.7741067998463311 ,  0.6559139784946236\n"
     ]
    }
   ],
   "source": [
    "print(gs9_stem_model.score(X_train, y_train),\", \", gs9_stem_model.score(X_test, y_test)) #svm, cvec"
   ]
  },
  {
   "cell_type": "code",
   "execution_count": 124,
   "metadata": {},
   "outputs": [
    {
     "name": "stdout",
     "output_type": "stream",
     "text": [
      "1.0 ,  0.6820276497695853\n"
     ]
    }
   ],
   "source": [
    "print(gs10_stem_model_adj.score(X_train, y_train),\", \", gs10_stem_model_adj.score(X_test, y_test)) #svm, tvec"
   ]
  },
  {
   "cell_type": "code",
   "execution_count": 241,
   "metadata": {},
   "outputs": [
    {
     "name": "stdout",
     "output_type": "stream",
     "text": [
      "[0.7038033038801383, 0.9846331156358048, 0.7890895121014214, 0.7349212447176335, 0.7741067998463311]\n",
      "[0.6405529953917051, 0.565284178187404, 0.6774193548387096, 0.6328725038402457, 0.6559139784946236]\n"
     ]
    },
    {
     "data": {
      "image/png": "[encoded data removed]",
      "text/plain": [
       "<Figure size 1080x720 with 1 Axes>"
      ]
     },
     "metadata": {
      "needs_background": "light"
     },
     "output_type": "display_data"
    }
   ],
   "source": [
    "#Model selection graphs\n",
    "train_scores = [0.7038033038801383, 0.9846331156358048, 0.7890895121014214, 0.7349212447176335, 0.7741067998463311]\n",
    "test_scores = [0.6405529953917051, 0.565284178187404, 0.6774193548387096, 0.6328725038402457, 0.6559139784946236]\n",
    "N = 5\n",
    "ind = np.arange(N)  # the x locations for the groups\n",
    "width = 0.35\n",
    "\n",
    "fig, ax = plt.subplots(figsize = (15, 10))\n",
    "\n",
    "rects1 = ax.bar(ind, train_scores, width, color='darkblue')\n",
    "rects2 = ax.bar(ind + width, test_scores, width, color='lightblue')\n",
    "line1 = plt.plot([4.75,-0.25], [0.545624,0.545624], color = \"red\", linestyle='--', label='baseline')\n",
    "ax.set_xlabel('Model', fontsize = 16)\n",
    "ax.set_ylabel('Accuracy Score', fontsize = 16)\n",
    "ax.set_ylim(0, 1.05)\n",
    "ax.set_xticks(ind + width / 2)\n",
    "ax.set_xticklabels(('Logistic', 'KNN', 'MultinomialNB', 'Random Forest', 'SVC'), fontsize = 13)\n",
    "ax.set_title('Accuracy Score by Model (CVEC)', fontsize = 20)\n",
    "ax.legend((rects1[0], rects2[0]), ('Train', 'Test'), loc = 'upper right')\n",
    "\n",
    "\n",
    "print(train_scores)\n",
    "print(test_scores)"
   ]
  },
  {
   "cell_type": "code",
   "execution_count": 242,
   "metadata": {},
   "outputs": [
    {
     "name": "stdout",
     "output_type": "stream",
     "text": [
      "[0.7767960046100653, 0.9976949673453708, 0.8259700345754898, 0.7118709181713407, 1.0]\n",
      "[0.6866359447004609, 0.6251920122887865, 0.663594470046083, 0.642089093701997, 0.6820276497695853]\n"
     ]
    },
    {
     "data": {
      "image/png": "[encoded data removed]",
      "text/plain": [
       "<Figure size 1080x720 with 1 Axes>"
      ]
     },
     "metadata": {
      "needs_background": "light"
     },
     "output_type": "display_data"
    }
   ],
   "source": [
    "#Model comparison graphs\n",
    "train_scores = [0.7767960046100653, 0.9976949673453708, 0.8259700345754898, 0.7118709181713407, 1.0]\n",
    "test_scores = [0.6866359447004609, 0.6251920122887865, 0.663594470046083, 0.642089093701997, 0.6820276497695853]\n",
    "N = 5\n",
    "ind = np.arange(N)  # the x locations for the groups\n",
    "width = 0.35\n",
    "\n",
    "fig, ax = plt.subplots(figsize = (15, 10))\n",
    "\n",
    "rects1 = ax.bar(ind, train_scores, width, color='darkblue')\n",
    "rects2 = ax.bar(ind + width, test_scores, width, color='lightblue')\n",
    "line1 = plt.plot([4.75,-0.25], [0.545624,0.545624], color = \"red\", linestyle='--', label='baseline')\n",
    "ax.set_xlabel('Model', fontsize = 16)\n",
    "ax.set_ylabel('Accuracy Score', fontsize = 16)\n",
    "ax.set_ylim(0, 1.05)\n",
    "ax.set_xticks(ind + width / 2)\n",
    "ax.set_xticklabels(('Logistic', 'KNN', 'MultinomialNB', 'Random Forest', 'SVC'), fontsize = 13)\n",
    "ax.set_title('Accuracy Score by Model (TVEC)', fontsize = 20)\n",
    "ax.legend((rects1[0], rects2[0]), ('Train', 'Test'), loc = 'upper right')\n",
    "\n",
    "\n",
    "print(train_scores)\n",
    "print(test_scores)"
   ]
  },
  {
   "cell_type": "markdown",
   "metadata": {},
   "source": [
    "We can see that our models are generally overfit. The best performing model on the test set was the logistic regression using TF-IDF vectorization at 68.66% followed closely by our selected model, SVC with TF-IDF at 68.2%. The worst performing model was the KNN using count vectorization at 56.5% which is only 2% higher than the red dotted baseline of 54%."
   ]
  },
  {
   "cell_type": "markdown",
   "metadata": {},
   "source": [
    "## Confusion Matrix"
   ]
  },
  {
   "cell_type": "code",
   "execution_count": 125,
   "metadata": {},
   "outputs": [],
   "source": [
    "preds = gs10_stem_model_adj.predict(X_test)"
   ]
  },
  {
   "cell_type": "code",
   "execution_count": 126,
   "metadata": {},
   "outputs": [
    {
     "data": {
      "text/plain": [
       "array([[260,  95],\n",
       "       [112, 184]])"
      ]
     },
     "execution_count": 126,
     "metadata": {},
     "output_type": "execute_result"
    }
   ],
   "source": [
    "confusion_matrix(y_test, preds)"
   ]
  },
  {
   "cell_type": "code",
   "execution_count": 127,
   "metadata": {},
   "outputs": [],
   "source": [
    "tn, fp, fn, tp = confusion_matrix(y_test, preds).ravel()"
   ]
  },
  {
   "cell_type": "code",
   "execution_count": 128,
   "metadata": {},
   "outputs": [
    {
     "name": "stdout",
     "output_type": "stream",
     "text": [
      "260 95 112 184\n"
     ]
    }
   ],
   "source": [
    "print(tn, fp, fn, tp)"
   ]
  },
  {
   "cell_type": "code",
   "execution_count": 256,
   "metadata": {},
   "outputs": [
    {
     "data": {
      "image/png": "[encoded data removed]",
      "text/plain": [
       "<Figure size 936x216 with 1 Axes>"
      ]
     },
     "metadata": {
      "needs_background": "light"
     },
     "output_type": "display_data"
    }
   ],
   "source": [
    "plt.figure(figsize=(13,3))\n",
    "\n",
    "table = plt.table(cellText=np.array(confusion_matrix(y_test, preds)), rowLabels = ['Predicted \\'NoStupidQuestions\\'', 'Predicted \\'TooAfraidToAsk\\''], colLabels = ['Actual \\'NoStupidQuestions\\'', 'Actual \\'TooAfraidToAsk\\''], loc='center', cellLoc='center')\n",
    "table.set_fontsize(22)\n",
    "table.scale(1,3)\n",
    "plt.axis('off')\n",
    "table;"
   ]
  },
  {
   "cell_type": "markdown",
   "metadata": {},
   "source": [
    "The above matrix shows how the model performed against our test dataset with what subreddit the model predicted vs what the actual subreddit source was. While the overall accuracy score was 68%, the model was much better at classifying posts into 'NoStupidQuestions' than classifying posts into 'TooAfraidToAsk'."
   ]
  },
  {
   "cell_type": "markdown",
   "metadata": {},
   "source": [
    "## Sensitivity and Specificity"
   ]
  },
  {
   "cell_type": "code",
   "execution_count": 130,
   "metadata": {},
   "outputs": [
    {
     "name": "stdout",
     "output_type": "stream",
     "text": [
      "The sensitivity (true positive rate) is 62.16%. The specificity (true negative rate) is 73.24%.\n"
     ]
    }
   ],
   "source": [
    "sens = tp / (tp+fn) #true positive rate\n",
    "spec = tn / (tn+fp) #true negative rate\n",
    "print (f'The sensitivity (true positive rate) is {round(sens*100,2)}%. The specificity (true negative rate) is {round(spec*100,2)}%.')"
   ]
  },
  {
   "cell_type": "markdown",
   "metadata": {},
   "source": [
    "### What does this tell us?"
   ]
  },
  {
   "cell_type": "markdown",
   "metadata": {},
   "source": [
    "These are the model's ability to predict true positives and true negatives. We can see that the model can predict true posts from 'NoStupidQuestions' at an average rate but is not so good at predicting true posts from 'TooAfraidToAsk'. In the context of our problem, the model is overly sensitive in rejecting questions as being frivolous."
   ]
  },
  {
   "cell_type": "markdown",
   "metadata": {},
   "source": [
    "### Receiver Operating Characteristic Curve and Area Under Curve"
   ]
  },
  {
   "cell_type": "code",
   "execution_count": 131,
   "metadata": {},
   "outputs": [],
   "source": [
    "pred_proba = [i[1] for i in gs10_stem_model_adj.predict_proba(X_test)]\n",
    "\n",
    "pred_df = pd.DataFrame({'true_values' : y_test,\n",
    "                      'pred_probs' : pred_proba})"
   ]
  },
  {
   "cell_type": "code",
   "execution_count": 139,
   "metadata": {},
   "outputs": [
    {
     "data": {
      "text/plain": [
       "0.7274457556147697"
      ]
     },
     "execution_count": 139,
     "metadata": {},
     "output_type": "execute_result"
    }
   ],
   "source": [
    "roc_auc_score(pred_df['true_values'], pred_df['pred_probs'])"
   ]
  },
  {
   "cell_type": "code",
   "execution_count": 246,
   "metadata": {
    "scrolled": false
   },
   "outputs": [
    {
     "data": {
      "image/png": "[encoded data removed]",
      "text/plain": [
       "<Figure size 720x504 with 1 Axes>"
      ]
     },
     "metadata": {
      "needs_background": "light"
     },
     "output_type": "display_data"
    }
   ],
   "source": [
    "# Create figure.\n",
    "plt.figure(figsize = (10,7))\n",
    "\n",
    "# Create threshold values. (Dashed red line in image.)\n",
    "thresholds = np.linspace(0, 1, 200)\n",
    "\n",
    "# Define function to calculate sensitivity. (True positive rate.)\n",
    "def TPR(df, true_col, pred_prob_col, threshold):\n",
    "    true_positive = df[(df[true_col] == 1) & (df[pred_prob_col] >= threshold)].shape[0]\n",
    "    false_negative = df[(df[true_col] == 1) & (df[pred_prob_col] < threshold)].shape[0]\n",
    "    return true_positive / (true_positive + false_negative)\n",
    "    \n",
    "\n",
    "# Define function to calculate 1 - specificity. (False positive rate.)\n",
    "def FPR(df, true_col, pred_prob_col, threshold):\n",
    "    true_negative = df[(df[true_col] == 0) & (df[pred_prob_col] <= threshold)].shape[0]\n",
    "    false_positive = df[(df[true_col] == 0) & (df[pred_prob_col] > threshold)].shape[0]\n",
    "    return 1 - (true_negative / (true_negative + false_positive))\n",
    "    \n",
    "# Calculate sensitivity & 1-specificity for each threshold between 0 and 1.\n",
    "tpr_values = [TPR(pred_df, 'true_values', 'pred_probs', prob) for prob in thresholds]\n",
    "fpr_values = [FPR(pred_df, 'true_values', 'pred_probs', prob) for prob in thresholds]\n",
    "\n",
    "# Plot ROC curve.\n",
    "plt.plot(fpr_values, # False Positive Rate on X-axis\n",
    "         tpr_values, # True Positive Rate on Y-axis\n",
    "         label='ROC Curve')\n",
    "\n",
    "# Plot baseline. (Perfect overlap between the two populations.)\n",
    "plt.plot(np.linspace(0, 1, 200),\n",
    "         np.linspace(0, 1, 200),\n",
    "         label='baseline',\n",
    "         linestyle='--')\n",
    "\n",
    "# Label axes.\n",
    "plt.title(f'ROC Curve with AUC = {round(roc_auc_score(pred_df[\"true_values\"], pred_df[\"pred_probs\"]),3)}', fontsize=22)\n",
    "plt.ylabel('Sensitivity', fontsize=18)\n",
    "plt.xlabel('1 - Specificity', fontsize=18)\n",
    "\n",
    "# Create legend.\n",
    "plt.legend(fontsize=15);"
   ]
  },
  {
   "cell_type": "markdown",
   "metadata": {},
   "source": [
    "This curve helps visualize the ability of the model to predict true positives as well as the probability of predicting a false positive. The further away the curve is from the dotted line, the better the model is at distinguishing between the two categories. If the curve is at the same level, the model is performing poorly and is no better than guessing.\n",
    "\n",
    "In this case, the ROC curve is away from the orange line but doesn't come anywhere close to reaching the (0,1) co-ordinate. It is not a great or completely awful model. Additionally, the area under the curve (known as AUC) shows if the positive and negative populations are distinct or overlap in the model. AUC of 1 indicates complete separation where 0.5 is a complete overlap. The AUC in our model is 0.727 which is moderate overlap of the subreddits."
   ]
  },
  {
   "cell_type": "markdown",
   "metadata": {},
   "source": [
    "## Reddit Post Content Analysis"
   ]
  },
  {
   "cell_type": "code",
   "execution_count": 239,
   "metadata": {},
   "outputs": [
    {
     "name": "stdout",
     "output_type": "stream",
     "text": [
      "The average title + post word count is 69.3 words.\n",
      "The maximum title + post word count is 1811 words.\n",
      "The minimum title + post word count is 3 words.\n",
      "The standard deviation of title + post word count is 75.4 words.\n"
     ]
    }
   ],
   "source": [
    "wordcount = 0\n",
    "maxcount = 0\n",
    "mincount = 1000000000\n",
    "countlist = []\n",
    "for i in data['title_selftxt']:\n",
    "    wordcount += len(i.split(\" \"))\n",
    "    if len(i.split(\" \")) > maxcount:\n",
    "        maxcount = len(i.split(\" \"))\n",
    "    if len(i.split(\" \")) < mincount:\n",
    "        mincount = len(i.split(\" \"))\n",
    "    countlist.append(len(i.split(\" \")))\n",
    "    \n",
    "print(f\"The average title + post word count is {round(wordcount/len(data.index),1)} words.\")\n",
    "print(f\"The maximum title + post word count is {maxcount} words.\")\n",
    "print(f\"The minimum title + post word count is {mincount} words.\")\n",
    "print(f\"The standard deviation of title + post word count is {round(np.std(countlist),1)} words.\")\n"
   ]
  },
  {
   "cell_type": "code",
   "execution_count": 172,
   "metadata": {},
   "outputs": [
    {
     "name": "stdout",
     "output_type": "stream",
     "text": [
      "['immedi' 'been' 'famili' 'surgeri' 'mobil' 'oper' 'episod' 'patient'\n",
      " 'marri' 'wife' 'the' 'seriou' 'date' 'doctor' 'certain' 'anyway' 'either'\n",
      " 'they' 'sorri' 'hospit']\n"
     ]
    }
   ],
   "source": [
    "#reinstantiate tvec for analysis as gridsearchCV did not save the model and vectorizer instantiations\n",
    "tvec = TfidfVectorizer(max_features=2000, ngram_range=(1,1), stop_words=None) #to match chosen model parameters\n",
    "tfs = tvec.fit_transform(X_train)\n",
    "response = tvec.transform(X_test)\n",
    "feature_array = np.array(tvec.get_feature_names())\n",
    "tfidf_sorting = np.argsort(response.toarray()).flatten()[::-1]\n",
    "\n",
    "n=20\n",
    "top_n = feature_array[tfidf_sorting][:n]\n",
    "print (top_n)"
   ]
  },
  {
   "cell_type": "markdown",
   "metadata": {},
   "source": [
    "Based on this data, the top words that appear the most according to the TF-IDF vectorizer have to do with medical conditions and family situations. The posts in general are quite short consisting only of a few sentences. This is reflective of the nature of the subreddits as they are generally just questions that do not have a lot of additional information.\n",
    "\n",
    "An interesting point to note is that the optimal model included stop words, possibly as a consequence of the fact there was not enough information to separate the posts."
   ]
  },
  {
   "cell_type": "markdown",
   "metadata": {},
   "source": [
    "## Conclusion"
   ]
  },
  {
   "cell_type": "markdown",
   "metadata": {},
   "source": [
    "While the optimal model's predictive accuracy was not very high at 68%, we are able to make a few conclusions and recommendations still.\n",
    "\n",
    "The model is too sensitive in that it rejects posts to 'NoStupidQuestions' when they are in fact 'TooAfraidToAsk'. Conversely, it does well in classifying posts to 'NoStupidQuestions' because of this. This is also indicative of the dataset not having clear cut verbage/subjects that separate the two subreddits.\n",
    "\n",
    "However, the main topics that occur most frequently relate to either medical/health conditions and family relationship questions. This indicates that these are the words that influence the model to classify into 'TooAfraidToAsk' the most. If we were to choose an area to invest resources in, it would be towards these two subjects.\n",
    "\n",
    "Support initiatives could include:\n",
    "- expansion and promotion of TeleHealth (perhaps an online version)\n",
    "- relationship helpline and counselling (like 7cups, theSpark, or ginger.io)\n",
    "- creation/support/expansion of family health conversations (as per study from Nursing Research & Practice journal)<sup>1</sup>\n",
    "- directly adding to curriculum coping methods and tactics for discussion of sensitive matters\n",
    "\n",
    "<sup>1</sup>https://www.ncbi.nlm.nih.gov/pmc/articles/PMC3995177/"
   ]
  },
  {
   "cell_type": "code",
   "execution_count": null,
   "metadata": {},
   "outputs": [],
   "source": []
  }
 ],
 "metadata": {
  "colab": {
   "name": "Project 3 - Modeling.ipynb",
   "provenance": []
  },
  "kernelspec": {
   "display_name": "Python 3",
   "language": "python",
   "name": "python3"
  },
  "language_info": {
   "codemirror_mode": {
    "name": "ipython",
    "version": 3
   },
   "file_extension": ".py",
   "mimetype": "text/x-python",
   "name": "python",
   "nbconvert_exporter": "python",
   "pygments_lexer": "ipython3",
   "version": "3.7.6"
  }
 },
 "nbformat": 4,
 "nbformat_minor": 1
}
