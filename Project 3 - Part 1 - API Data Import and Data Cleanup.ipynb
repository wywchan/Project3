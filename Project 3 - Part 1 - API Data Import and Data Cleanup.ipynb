{
 "cells": [
  {
   "cell_type": "markdown",
   "metadata": {},
   "source": [
    "# Project 3 - NLP and Reddit Classification - Part 1: Data Import and Cleanup"
   ]
  },
  {
   "cell_type": "markdown",
   "metadata": {},
   "source": [
    "## Problem Statement"
   ]
  },
  {
   "cell_type": "markdown",
   "metadata": {},
   "source": [
    "This project is In the interest of improving and updating public education for things people feel they should know but are too embarrassed to ask.\n",
    "\n",
    "We will build a classification model that can take inputs and determine if a topic is worth building up resources for by comparing posts in ‘TooAfraidToAsk’ (which is generally viewed as a more serious forum) vs ‘NoStupidQuestions’ (which is based off of questions that are just curiosities)."
   ]
  },
  {
   "cell_type": "markdown",
   "metadata": {},
   "source": [
    "## Executive Summary"
   ]
  },
  {
   "cell_type": "markdown",
   "metadata": {},
   "source": [
    "The model allowed us to gain some valuable insight despite not having a high accuracy score. The two subreddits are very similar in that they welcome questions on a variety of topics. That the model was not able to draw a line down the middle to separate posts from each is not completely surprising. \n",
    "\n",
    "Where we found success was in identifying what the model prioritized as keywords that occur most frequently. These are those relating to health and family situations. If there is a change to improving public education, it could relate to providing more support to these sorts of matters.\n",
    "\n",
    "### Contents:\n",
    "#### Part 1:\n",
    "- [API Data Import](#API-Data-Import)\n",
    "- [Exploratory Data Analysis](#Exploratory-Data-Analysis)\n",
    "\n",
    "#### Part 2:\n",
    "- Model Setup\n",
    "- Initial Model Configurations\n",
    "- Modelling Using Stemmed X Values\n",
    "- Changing Train/Test Split to 80:20 from 66:33\n",
    "- Engineer Additional Feature\n",
    "- Score Against Train and Test Datasets\n",
    "- Confusion Matrix\n",
    "- Sensitivity and Specificity\n",
    "- Reddit Post Content Analysis\n",
    "- Conclusion\n",
    "\n"
   ]
  },
  {
   "cell_type": "markdown",
   "metadata": {},
   "source": [
    "## Package Import"
   ]
  },
  {
   "cell_type": "code",
   "execution_count": 567,
   "metadata": {},
   "outputs": [],
   "source": [
    "import requests\n",
    "import pandas as pd\n",
    "import numpy as np\n",
    "import re"
   ]
  },
  {
   "cell_type": "markdown",
   "metadata": {},
   "source": [
    "## API Data Import"
   ]
  },
  {
   "cell_type": "markdown",
   "metadata": {},
   "source": [
    "### Acquiring 'NoStupidQuestions' data"
   ]
  },
  {
   "cell_type": "code",
   "execution_count": 568,
   "metadata": {},
   "outputs": [],
   "source": [
    "url = \"https://api.pushshift.io/reddit/search/submission\"\n"
   ]
  },
  {
   "cell_type": "code",
   "execution_count": 569,
   "metadata": {},
   "outputs": [],
   "source": [
    "params = {\n",
    "    'subreddit' : 'NoStupidQuestions',\n",
    "    'size' : 500,\n",
    "    'before' : 1585961257 #500 posts before Apr 3, 8:47PM (posts range from Apr 3 2:38PM to 8:47PM)\n",
    "}\n"
   ]
  },
  {
   "cell_type": "code",
   "execution_count": 570,
   "metadata": {},
   "outputs": [],
   "source": [
    "req = requests.get(url, params)\n"
   ]
  },
  {
   "cell_type": "code",
   "execution_count": 571,
   "metadata": {},
   "outputs": [
    {
     "data": {
      "text/plain": [
       "200"
      ]
     },
     "execution_count": 571,
     "metadata": {},
     "output_type": "execute_result"
    }
   ],
   "source": [
    "req.status_code"
   ]
  },
  {
   "cell_type": "code",
   "execution_count": 572,
   "metadata": {},
   "outputs": [],
   "source": [
    "sq = req.json()\n"
   ]
  },
  {
   "cell_type": "code",
   "execution_count": 574,
   "metadata": {},
   "outputs": [],
   "source": [
    "posts = sq['data']"
   ]
  },
  {
   "cell_type": "code",
   "execution_count": 575,
   "metadata": {},
   "outputs": [],
   "source": [
    "df = pd.DataFrame(posts)"
   ]
  },
  {
   "cell_type": "code",
   "execution_count": 576,
   "metadata": {},
   "outputs": [
    {
     "data": {
      "text/html": [
       "<div>\n",
       "<style scoped>\n",
       "    .dataframe tbody tr th:only-of-type {\n",
       "        vertical-align: middle;\n",
       "    }\n",
       "\n",
       "    .dataframe tbody tr th {\n",
       "        vertical-align: top;\n",
       "    }\n",
       "\n",
       "    .dataframe thead th {\n",
       "        text-align: right;\n",
       "    }\n",
       "</style>\n",
       "<table border=\"1\" class=\"dataframe\">\n",
       "  <thead>\n",
       "    <tr style=\"text-align: right;\">\n",
       "      <th></th>\n",
       "      <th>all_awardings</th>\n",
       "      <th>allow_live_comments</th>\n",
       "      <th>author</th>\n",
       "      <th>author_flair_css_class</th>\n",
       "      <th>author_flair_richtext</th>\n",
       "      <th>author_flair_text</th>\n",
       "      <th>author_flair_type</th>\n",
       "      <th>author_fullname</th>\n",
       "      <th>author_patreon_flair</th>\n",
       "      <th>author_premium</th>\n",
       "      <th>...</th>\n",
       "      <th>preview</th>\n",
       "      <th>author_flair_background_color</th>\n",
       "      <th>author_flair_text_color</th>\n",
       "      <th>link_flair_css_class</th>\n",
       "      <th>link_flair_template_id</th>\n",
       "      <th>link_flair_text</th>\n",
       "      <th>author_cakeday</th>\n",
       "      <th>author_flair_template_id</th>\n",
       "      <th>banned_by</th>\n",
       "      <th>edited</th>\n",
       "    </tr>\n",
       "  </thead>\n",
       "  <tbody>\n",
       "    <tr>\n",
       "      <th>0</th>\n",
       "      <td>[]</td>\n",
       "      <td>False</td>\n",
       "      <td>greenkittypower</td>\n",
       "      <td>None</td>\n",
       "      <td>[]</td>\n",
       "      <td>None</td>\n",
       "      <td>text</td>\n",
       "      <td>t2_53nrb95z</td>\n",
       "      <td>False</td>\n",
       "      <td>False</td>\n",
       "      <td>...</td>\n",
       "      <td>NaN</td>\n",
       "      <td>NaN</td>\n",
       "      <td>NaN</td>\n",
       "      <td>NaN</td>\n",
       "      <td>NaN</td>\n",
       "      <td>NaN</td>\n",
       "      <td>NaN</td>\n",
       "      <td>NaN</td>\n",
       "      <td>NaN</td>\n",
       "      <td>NaN</td>\n",
       "    </tr>\n",
       "    <tr>\n",
       "      <th>1</th>\n",
       "      <td>[]</td>\n",
       "      <td>False</td>\n",
       "      <td>darkLordSantaClaus</td>\n",
       "      <td>None</td>\n",
       "      <td>[]</td>\n",
       "      <td>None</td>\n",
       "      <td>text</td>\n",
       "      <td>t2_2in1fjf6</td>\n",
       "      <td>False</td>\n",
       "      <td>False</td>\n",
       "      <td>...</td>\n",
       "      <td>NaN</td>\n",
       "      <td>NaN</td>\n",
       "      <td>NaN</td>\n",
       "      <td>NaN</td>\n",
       "      <td>NaN</td>\n",
       "      <td>NaN</td>\n",
       "      <td>NaN</td>\n",
       "      <td>NaN</td>\n",
       "      <td>NaN</td>\n",
       "      <td>NaN</td>\n",
       "    </tr>\n",
       "    <tr>\n",
       "      <th>2</th>\n",
       "      <td>[]</td>\n",
       "      <td>False</td>\n",
       "      <td>Natnaeltefera</td>\n",
       "      <td>None</td>\n",
       "      <td>[]</td>\n",
       "      <td>None</td>\n",
       "      <td>text</td>\n",
       "      <td>t2_311kkk4l</td>\n",
       "      <td>False</td>\n",
       "      <td>False</td>\n",
       "      <td>...</td>\n",
       "      <td>NaN</td>\n",
       "      <td>NaN</td>\n",
       "      <td>NaN</td>\n",
       "      <td>NaN</td>\n",
       "      <td>NaN</td>\n",
       "      <td>NaN</td>\n",
       "      <td>NaN</td>\n",
       "      <td>NaN</td>\n",
       "      <td>NaN</td>\n",
       "      <td>NaN</td>\n",
       "    </tr>\n",
       "    <tr>\n",
       "      <th>3</th>\n",
       "      <td>[]</td>\n",
       "      <td>False</td>\n",
       "      <td>ItchyPositive9</td>\n",
       "      <td>None</td>\n",
       "      <td>[]</td>\n",
       "      <td>None</td>\n",
       "      <td>text</td>\n",
       "      <td>t2_647696a8</td>\n",
       "      <td>False</td>\n",
       "      <td>False</td>\n",
       "      <td>...</td>\n",
       "      <td>{'enabled': False, 'images': [{'id': 'hki1NSgD...</td>\n",
       "      <td>NaN</td>\n",
       "      <td>NaN</td>\n",
       "      <td>NaN</td>\n",
       "      <td>NaN</td>\n",
       "      <td>NaN</td>\n",
       "      <td>NaN</td>\n",
       "      <td>NaN</td>\n",
       "      <td>NaN</td>\n",
       "      <td>NaN</td>\n",
       "    </tr>\n",
       "    <tr>\n",
       "      <th>4</th>\n",
       "      <td>[]</td>\n",
       "      <td>False</td>\n",
       "      <td>CoronaEnema</td>\n",
       "      <td>None</td>\n",
       "      <td>[]</td>\n",
       "      <td>None</td>\n",
       "      <td>text</td>\n",
       "      <td>t2_629nnf7i</td>\n",
       "      <td>False</td>\n",
       "      <td>False</td>\n",
       "      <td>...</td>\n",
       "      <td>NaN</td>\n",
       "      <td>NaN</td>\n",
       "      <td>NaN</td>\n",
       "      <td>NaN</td>\n",
       "      <td>NaN</td>\n",
       "      <td>NaN</td>\n",
       "      <td>NaN</td>\n",
       "      <td>NaN</td>\n",
       "      <td>NaN</td>\n",
       "      <td>NaN</td>\n",
       "    </tr>\n",
       "    <tr>\n",
       "      <th>...</th>\n",
       "      <td>...</td>\n",
       "      <td>...</td>\n",
       "      <td>...</td>\n",
       "      <td>...</td>\n",
       "      <td>...</td>\n",
       "      <td>...</td>\n",
       "      <td>...</td>\n",
       "      <td>...</td>\n",
       "      <td>...</td>\n",
       "      <td>...</td>\n",
       "      <td>...</td>\n",
       "      <td>...</td>\n",
       "      <td>...</td>\n",
       "      <td>...</td>\n",
       "      <td>...</td>\n",
       "      <td>...</td>\n",
       "      <td>...</td>\n",
       "      <td>...</td>\n",
       "      <td>...</td>\n",
       "      <td>...</td>\n",
       "      <td>...</td>\n",
       "    </tr>\n",
       "    <tr>\n",
       "      <th>495</th>\n",
       "      <td>[]</td>\n",
       "      <td>False</td>\n",
       "      <td>Cherryascanbe</td>\n",
       "      <td>None</td>\n",
       "      <td>[]</td>\n",
       "      <td>None</td>\n",
       "      <td>text</td>\n",
       "      <td>t2_3x86spwe</td>\n",
       "      <td>False</td>\n",
       "      <td>False</td>\n",
       "      <td>...</td>\n",
       "      <td>NaN</td>\n",
       "      <td>NaN</td>\n",
       "      <td>NaN</td>\n",
       "      <td>NaN</td>\n",
       "      <td>NaN</td>\n",
       "      <td>NaN</td>\n",
       "      <td>NaN</td>\n",
       "      <td>NaN</td>\n",
       "      <td>NaN</td>\n",
       "      <td>NaN</td>\n",
       "    </tr>\n",
       "    <tr>\n",
       "      <th>496</th>\n",
       "      <td>[]</td>\n",
       "      <td>False</td>\n",
       "      <td>GenericUsername180</td>\n",
       "      <td>None</td>\n",
       "      <td>[]</td>\n",
       "      <td>None</td>\n",
       "      <td>text</td>\n",
       "      <td>t2_4ytqyiwl</td>\n",
       "      <td>False</td>\n",
       "      <td>False</td>\n",
       "      <td>...</td>\n",
       "      <td>NaN</td>\n",
       "      <td>NaN</td>\n",
       "      <td>NaN</td>\n",
       "      <td>NaN</td>\n",
       "      <td>NaN</td>\n",
       "      <td>NaN</td>\n",
       "      <td>NaN</td>\n",
       "      <td>NaN</td>\n",
       "      <td>NaN</td>\n",
       "      <td>NaN</td>\n",
       "    </tr>\n",
       "    <tr>\n",
       "      <th>497</th>\n",
       "      <td>[]</td>\n",
       "      <td>False</td>\n",
       "      <td>br58T</td>\n",
       "      <td>None</td>\n",
       "      <td>[]</td>\n",
       "      <td>None</td>\n",
       "      <td>text</td>\n",
       "      <td>t2_5vpiigy2</td>\n",
       "      <td>False</td>\n",
       "      <td>False</td>\n",
       "      <td>...</td>\n",
       "      <td>NaN</td>\n",
       "      <td>NaN</td>\n",
       "      <td>NaN</td>\n",
       "      <td>NaN</td>\n",
       "      <td>NaN</td>\n",
       "      <td>NaN</td>\n",
       "      <td>NaN</td>\n",
       "      <td>NaN</td>\n",
       "      <td>NaN</td>\n",
       "      <td>NaN</td>\n",
       "    </tr>\n",
       "    <tr>\n",
       "      <th>498</th>\n",
       "      <td>[]</td>\n",
       "      <td>False</td>\n",
       "      <td>HarebrainedLitre</td>\n",
       "      <td>None</td>\n",
       "      <td>[]</td>\n",
       "      <td>None</td>\n",
       "      <td>text</td>\n",
       "      <td>t2_3goufuaa</td>\n",
       "      <td>False</td>\n",
       "      <td>False</td>\n",
       "      <td>...</td>\n",
       "      <td>NaN</td>\n",
       "      <td>NaN</td>\n",
       "      <td>NaN</td>\n",
       "      <td>NaN</td>\n",
       "      <td>NaN</td>\n",
       "      <td>NaN</td>\n",
       "      <td>NaN</td>\n",
       "      <td>NaN</td>\n",
       "      <td>NaN</td>\n",
       "      <td>NaN</td>\n",
       "    </tr>\n",
       "    <tr>\n",
       "      <th>499</th>\n",
       "      <td>[]</td>\n",
       "      <td>False</td>\n",
       "      <td>lautispnz</td>\n",
       "      <td>None</td>\n",
       "      <td>[]</td>\n",
       "      <td>None</td>\n",
       "      <td>text</td>\n",
       "      <td>t2_63w7k9fj</td>\n",
       "      <td>False</td>\n",
       "      <td>False</td>\n",
       "      <td>...</td>\n",
       "      <td>NaN</td>\n",
       "      <td>NaN</td>\n",
       "      <td>NaN</td>\n",
       "      <td>NaN</td>\n",
       "      <td>NaN</td>\n",
       "      <td>NaN</td>\n",
       "      <td>NaN</td>\n",
       "      <td>NaN</td>\n",
       "      <td>NaN</td>\n",
       "      <td>NaN</td>\n",
       "    </tr>\n",
       "  </tbody>\n",
       "</table>\n",
       "<p>500 rows × 67 columns</p>\n",
       "</div>"
      ],
      "text/plain": [
       "    all_awardings  allow_live_comments              author  \\\n",
       "0              []                False     greenkittypower   \n",
       "1              []                False  darkLordSantaClaus   \n",
       "2              []                False       Natnaeltefera   \n",
       "3              []                False      ItchyPositive9   \n",
       "4              []                False         CoronaEnema   \n",
       "..            ...                  ...                 ...   \n",
       "495            []                False       Cherryascanbe   \n",
       "496            []                False  GenericUsername180   \n",
       "497            []                False               br58T   \n",
       "498            []                False    HarebrainedLitre   \n",
       "499            []                False           lautispnz   \n",
       "\n",
       "    author_flair_css_class author_flair_richtext author_flair_text  \\\n",
       "0                     None                    []              None   \n",
       "1                     None                    []              None   \n",
       "2                     None                    []              None   \n",
       "3                     None                    []              None   \n",
       "4                     None                    []              None   \n",
       "..                     ...                   ...               ...   \n",
       "495                   None                    []              None   \n",
       "496                   None                    []              None   \n",
       "497                   None                    []              None   \n",
       "498                   None                    []              None   \n",
       "499                   None                    []              None   \n",
       "\n",
       "    author_flair_type author_fullname author_patreon_flair author_premium  \\\n",
       "0                text     t2_53nrb95z                False          False   \n",
       "1                text     t2_2in1fjf6                False          False   \n",
       "2                text     t2_311kkk4l                False          False   \n",
       "3                text     t2_647696a8                False          False   \n",
       "4                text     t2_629nnf7i                False          False   \n",
       "..                ...             ...                  ...            ...   \n",
       "495              text     t2_3x86spwe                False          False   \n",
       "496              text     t2_4ytqyiwl                False          False   \n",
       "497              text     t2_5vpiigy2                False          False   \n",
       "498              text     t2_3goufuaa                False          False   \n",
       "499              text     t2_63w7k9fj                False          False   \n",
       "\n",
       "     ...                                            preview  \\\n",
       "0    ...                                                NaN   \n",
       "1    ...                                                NaN   \n",
       "2    ...                                                NaN   \n",
       "3    ...  {'enabled': False, 'images': [{'id': 'hki1NSgD...   \n",
       "4    ...                                                NaN   \n",
       "..   ...                                                ...   \n",
       "495  ...                                                NaN   \n",
       "496  ...                                                NaN   \n",
       "497  ...                                                NaN   \n",
       "498  ...                                                NaN   \n",
       "499  ...                                                NaN   \n",
       "\n",
       "     author_flair_background_color  author_flair_text_color  \\\n",
       "0                              NaN                      NaN   \n",
       "1                              NaN                      NaN   \n",
       "2                              NaN                      NaN   \n",
       "3                              NaN                      NaN   \n",
       "4                              NaN                      NaN   \n",
       "..                             ...                      ...   \n",
       "495                            NaN                      NaN   \n",
       "496                            NaN                      NaN   \n",
       "497                            NaN                      NaN   \n",
       "498                            NaN                      NaN   \n",
       "499                            NaN                      NaN   \n",
       "\n",
       "     link_flair_css_class link_flair_template_id link_flair_text  \\\n",
       "0                     NaN                    NaN             NaN   \n",
       "1                     NaN                    NaN             NaN   \n",
       "2                     NaN                    NaN             NaN   \n",
       "3                     NaN                    NaN             NaN   \n",
       "4                     NaN                    NaN             NaN   \n",
       "..                    ...                    ...             ...   \n",
       "495                   NaN                    NaN             NaN   \n",
       "496                   NaN                    NaN             NaN   \n",
       "497                   NaN                    NaN             NaN   \n",
       "498                   NaN                    NaN             NaN   \n",
       "499                   NaN                    NaN             NaN   \n",
       "\n",
       "    author_cakeday author_flair_template_id  banned_by  edited  \n",
       "0              NaN                      NaN        NaN     NaN  \n",
       "1              NaN                      NaN        NaN     NaN  \n",
       "2              NaN                      NaN        NaN     NaN  \n",
       "3              NaN                      NaN        NaN     NaN  \n",
       "4              NaN                      NaN        NaN     NaN  \n",
       "..             ...                      ...        ...     ...  \n",
       "495            NaN                      NaN        NaN     NaN  \n",
       "496            NaN                      NaN        NaN     NaN  \n",
       "497            NaN                      NaN        NaN     NaN  \n",
       "498            NaN                      NaN        NaN     NaN  \n",
       "499            NaN                      NaN        NaN     NaN  \n",
       "\n",
       "[500 rows x 67 columns]"
      ]
     },
     "execution_count": 576,
     "metadata": {},
     "output_type": "execute_result"
    }
   ],
   "source": [
    "df"
   ]
  },
  {
   "cell_type": "code",
   "execution_count": 577,
   "metadata": {},
   "outputs": [
    {
     "data": {
      "text/plain": [
       "Index(['all_awardings', 'allow_live_comments', 'author',\n",
       "       'author_flair_css_class', 'author_flair_richtext', 'author_flair_text',\n",
       "       'author_flair_type', 'author_fullname', 'author_patreon_flair',\n",
       "       'author_premium', 'awarders', 'can_mod_post', 'contest_mode',\n",
       "       'created_utc', 'domain', 'full_link', 'gildings', 'id',\n",
       "       'is_crosspostable', 'is_meta', 'is_original_content',\n",
       "       'is_reddit_media_domain', 'is_robot_indexable', 'is_self', 'is_video',\n",
       "       'link_flair_background_color', 'link_flair_richtext',\n",
       "       'link_flair_text_color', 'link_flair_type', 'locked', 'media_only',\n",
       "       'no_follow', 'num_comments', 'num_crossposts', 'over_18',\n",
       "       'parent_whitelist_status', 'permalink', 'pinned', 'pwls',\n",
       "       'removed_by_category', 'retrieved_on', 'score', 'selftext',\n",
       "       'send_replies', 'spoiler', 'stickied', 'subreddit', 'subreddit_id',\n",
       "       'subreddit_subscribers', 'subreddit_type', 'thumbnail', 'title',\n",
       "       'total_awards_received', 'url', 'whitelist_status', 'wls', 'post_hint',\n",
       "       'preview', 'author_flair_background_color', 'author_flair_text_color',\n",
       "       'link_flair_css_class', 'link_flair_template_id', 'link_flair_text',\n",
       "       'author_cakeday', 'author_flair_template_id', 'banned_by', 'edited'],\n",
       "      dtype='object')"
      ]
     },
     "execution_count": 577,
     "metadata": {},
     "output_type": "execute_result"
    }
   ],
   "source": [
    "df.columns"
   ]
  },
  {
   "cell_type": "code",
   "execution_count": 578,
   "metadata": {},
   "outputs": [
    {
     "data": {
      "text/plain": [
       "499    1585939037\n",
       "498    1585939094\n",
       "497    1585939166\n",
       "496    1585939196\n",
       "495    1585939230\n",
       "          ...    \n",
       "4      1585961052\n",
       "3      1585961134\n",
       "2      1585961141\n",
       "1      1585961222\n",
       "0      1585961223\n",
       "Name: created_utc, Length: 500, dtype: int64"
      ]
     },
     "execution_count": 578,
     "metadata": {},
     "output_type": "execute_result"
    }
   ],
   "source": [
    "df['created_utc'].sort_values()"
   ]
  },
  {
   "cell_type": "code",
   "execution_count": 579,
   "metadata": {},
   "outputs": [],
   "source": [
    "nsq = df[['subreddit','selftext','title']]"
   ]
  },
  {
   "cell_type": "code",
   "execution_count": 580,
   "metadata": {},
   "outputs": [
    {
     "name": "stdout",
     "output_type": "stream",
     "text": [
      "<class 'pandas.core.frame.DataFrame'>\n",
      "RangeIndex: 500 entries, 0 to 499\n",
      "Data columns (total 3 columns):\n",
      " #   Column     Non-Null Count  Dtype \n",
      "---  ------     --------------  ----- \n",
      " 0   subreddit  500 non-null    object\n",
      " 1   selftext   494 non-null    object\n",
      " 2   title      500 non-null    object\n",
      "dtypes: object(3)\n",
      "memory usage: 11.8+ KB\n"
     ]
    }
   ],
   "source": [
    "nsq.info()"
   ]
  },
  {
   "cell_type": "code",
   "execution_count": 581,
   "metadata": {},
   "outputs": [
    {
     "data": {
      "text/plain": [
       "                                                                                                                                                                                                                                                                                                                                                                                                                                                            138\n",
       "[removed]                                                                                                                                                                                                                                                                                                                                                                                                                                                    46\n",
       "[deleted]                                                                                                                                                                                                                                                                                                                                                                                                                                                     8\n",
       "Is a pay wall really that lucrative compared to just normal online ads? I get people need to make money but other news sites can get the news across without a pay wall. Pay walls are a sure way to get me to blacklist the site.                                                                                                                                                                                                                            2\n",
       "I'm in Canada. Every one is out of work, stay at home, etc. The government is giving people EI plus other types of income and subsidiaries. So far they said all these benefits will be for 4 months but every article I'm reading online says that it'll take until next year when we find a vaccine. Are we just suppose to stay in quarantine for the rest of the year/until a vaccine is found. We can't just use social distancing forever, can we?      2\n",
       "                                                                                                                                                                                                                                                                                                                                                                                                                                                           ... \n",
       "Like you can visit the beaches of Normandy. Would there be like a plaque or something at Thermopylae                                                                                                                                                                                                                                                                                                                                                          1\n",
       "So strange but I always want a slice of plain cheese pizza , does anyone else experience that?                                                                                                                                                                                                                                                                                                                                                                1\n",
       "Ive always heard about that society, Id assume by now they would have proved themselves wrong with a plane ride or boat.                                                                                                                                                                                                                                                                                                                                      1\n",
       "I know what it is but never in a million years could I understand it. Why in the world would I ever want to share my beautiful wife and watch some other dude bang her and then...🤮clean up🤮? Gross!                                                                                                                                                                                                                                                          1\n",
       "I'm reading fanfic and there's this one guy who's being spanked by someone who's just one year older than him just because he disobeyed them? Why does age matter so much in korea?                                                                                                                                                                                                                                                                           1\n",
       "Name: selftext, Length: 302, dtype: int64"
      ]
     },
     "execution_count": 581,
     "metadata": {},
     "output_type": "execute_result"
    }
   ],
   "source": [
    "nsq['selftext'].value_counts()"
   ]
  },
  {
   "cell_type": "code",
   "execution_count": 582,
   "metadata": {},
   "outputs": [],
   "source": [
    "params = {\n",
    "    'subreddit' : 'NoStupidQuestions',\n",
    "    'size' : 500,\n",
    "    'before' : '1585910503' #500 posts before 6:41AM Apr 3 (posts range from Apr 2 9:28PM to Apr 3 6:41AM)\n",
    "}"
   ]
  },
  {
   "cell_type": "code",
   "execution_count": 583,
   "metadata": {},
   "outputs": [
    {
     "data": {
      "text/plain": [
       "200"
      ]
     },
     "execution_count": 583,
     "metadata": {},
     "output_type": "execute_result"
    }
   ],
   "source": [
    "req = requests.get(url, params)\n",
    "req.status_code"
   ]
  },
  {
   "cell_type": "code",
   "execution_count": 584,
   "metadata": {},
   "outputs": [],
   "source": [
    "sq = req.json()\n",
    "posts = sq['data']\n",
    "df = pd.DataFrame(posts)\n"
   ]
  },
  {
   "cell_type": "code",
   "execution_count": 585,
   "metadata": {},
   "outputs": [
    {
     "data": {
      "text/plain": [
       "499    1585877308\n",
       "498    1585877341\n",
       "497    1585877401\n",
       "496    1585877405\n",
       "495    1585877474\n",
       "          ...    \n",
       "4      1585910072\n",
       "3      1585910219\n",
       "2      1585910307\n",
       "1      1585910319\n",
       "0      1585910404\n",
       "Name: created_utc, Length: 500, dtype: int64"
      ]
     },
     "execution_count": 585,
     "metadata": {},
     "output_type": "execute_result"
    }
   ],
   "source": [
    "df['created_utc'].sort_values()"
   ]
  },
  {
   "cell_type": "code",
   "execution_count": 586,
   "metadata": {},
   "outputs": [],
   "source": [
    "nsq1 = df[['subreddit','selftext','title']]"
   ]
  },
  {
   "cell_type": "code",
   "execution_count": 587,
   "metadata": {},
   "outputs": [],
   "source": [
    "nsq = nsq.append(nsq1, ignore_index=True)"
   ]
  },
  {
   "cell_type": "code",
   "execution_count": 588,
   "metadata": {},
   "outputs": [],
   "source": [
    "params = {\n",
    "    'subreddit' : 'NoStupidQuestions',\n",
    "    'size' : 500,\n",
    "    'before' : '1585877308' #500 posts before 6:41AM Apr 3 (posts range from Apr 2 2:54PM to Apr 2 9:28PM)\n",
    "}"
   ]
  },
  {
   "cell_type": "code",
   "execution_count": 589,
   "metadata": {},
   "outputs": [
    {
     "data": {
      "text/plain": [
       "200"
      ]
     },
     "execution_count": 589,
     "metadata": {},
     "output_type": "execute_result"
    }
   ],
   "source": [
    "req = requests.get(url, params)\n",
    "req.status_code"
   ]
  },
  {
   "cell_type": "code",
   "execution_count": 590,
   "metadata": {},
   "outputs": [],
   "source": [
    "sq = req.json()\n",
    "posts = sq['data']\n",
    "df = pd.DataFrame(posts)"
   ]
  },
  {
   "cell_type": "code",
   "execution_count": 591,
   "metadata": {},
   "outputs": [
    {
     "data": {
      "text/plain": [
       "499    1585853695\n",
       "498    1585853714\n",
       "497    1585853721\n",
       "496    1585853724\n",
       "495    1585853842\n",
       "          ...    \n",
       "4      1585877132\n",
       "3      1585877202\n",
       "2      1585877218\n",
       "1      1585877253\n",
       "0      1585877306\n",
       "Name: created_utc, Length: 500, dtype: int64"
      ]
     },
     "execution_count": 591,
     "metadata": {},
     "output_type": "execute_result"
    }
   ],
   "source": [
    "df['created_utc'].sort_values()"
   ]
  },
  {
   "cell_type": "code",
   "execution_count": 592,
   "metadata": {},
   "outputs": [],
   "source": [
    "nsq2 = df[['subreddit','selftext','title']]"
   ]
  },
  {
   "cell_type": "code",
   "execution_count": 593,
   "metadata": {},
   "outputs": [],
   "source": [
    "nsq = nsq.append(nsq2, ignore_index=True)"
   ]
  },
  {
   "cell_type": "code",
   "execution_count": 594,
   "metadata": {},
   "outputs": [],
   "source": [
    "params = {\n",
    "    'subreddit' : 'NoStupidQuestions',\n",
    "    'size' : 500,\n",
    "    'before' : '1585853595' #500 posts before 6:41AM Apr 3 (posts range from Apr 2 7:37AM to Apr 2 2:51PM)\n",
    "}"
   ]
  },
  {
   "cell_type": "code",
   "execution_count": 595,
   "metadata": {},
   "outputs": [
    {
     "data": {
      "text/plain": [
       "200"
      ]
     },
     "execution_count": 595,
     "metadata": {},
     "output_type": "execute_result"
    }
   ],
   "source": [
    "req = requests.get(url, params)\n",
    "req.status_code"
   ]
  },
  {
   "cell_type": "code",
   "execution_count": 596,
   "metadata": {},
   "outputs": [],
   "source": [
    "sq = req.json()\n",
    "posts = sq['data']\n",
    "df = pd.DataFrame(posts)"
   ]
  },
  {
   "cell_type": "code",
   "execution_count": 597,
   "metadata": {},
   "outputs": [
    {
     "data": {
      "text/plain": [
       "499    1585827424\n",
       "498    1585827688\n",
       "497    1585827837\n",
       "496    1585827956\n",
       "495    1585828024\n",
       "          ...    \n",
       "4      1585853416\n",
       "3      1585853466\n",
       "2      1585853469\n",
       "1      1585853503\n",
       "0      1585853505\n",
       "Name: created_utc, Length: 500, dtype: int64"
      ]
     },
     "execution_count": 597,
     "metadata": {},
     "output_type": "execute_result"
    }
   ],
   "source": [
    "df['created_utc'].sort_values()"
   ]
  },
  {
   "cell_type": "code",
   "execution_count": 598,
   "metadata": {},
   "outputs": [],
   "source": [
    "nsq3 = df[['subreddit','selftext','title']]"
   ]
  },
  {
   "cell_type": "code",
   "execution_count": 599,
   "metadata": {},
   "outputs": [],
   "source": [
    "nsq = nsq.append(nsq3, ignore_index=True)"
   ]
  },
  {
   "cell_type": "code",
   "execution_count": 600,
   "metadata": {},
   "outputs": [
    {
     "data": {
      "text/plain": [
       "(2000, 3)"
      ]
     },
     "execution_count": 600,
     "metadata": {},
     "output_type": "execute_result"
    }
   ],
   "source": [
    "nsq.shape"
   ]
  },
  {
   "cell_type": "code",
   "execution_count": 601,
   "metadata": {},
   "outputs": [
    {
     "data": {
      "text/plain": [
       "                                                                                                                                                                                                                                                                                                                                                                                                                                                                                                                                          630\n",
       "[removed]                                                                                                                                                                                                                                                                                                                                                                                                                                                                                                                                 202\n",
       "[deleted]                                                                                                                                                                                                                                                                                                                                                                                                                                                                                                                                   8\n",
       "I have family and friends who say \"I want three Glocks and at least two ak-47\" what is the point, besides exercising your right to bear arms? I'd rather have different types of guns and not the same gun repeated.                                                                                                                                                                                                                                                                                                                        3\n",
       "Every source I found says clinical depression is caused by a combination of genetic and environmental factors. It’s called nature vs nurture. I don’t get why people are saying that it has no external causes, that it’s caused by genetics only.\\n\\n‘Nature vs. nurture: Study shows genetic links to depression’ https://www.abc.net.au/triplej/programs/hack/depression-genetics-study/7682774\\n\\n‘THE GENETIC MAKEUP OF DEPRESSION: NATURE, NURTURE AND A NEW STUDY‘ https://newjerseyketamine.com/genetics-depression-treatment/      3\n",
       "                                                                                                                                                                                                                                                                                                                                                                                                                                                                                                                                         ... \n",
       "I'm not from US, and find it odd when animals, besides humans who are also technically animals, are referred to as \"it\".  Since slaves, of African descent, were taken as sub human, I'm just wondering which nouns were used back then.                                                                                                                                                                                                                                                                                                    1\n",
       "I can spend an hour doing make-up, and I will feel even uglier than I did before. Everytime I look in the mirror, I say, ''Wow, you are ugly.'' At this point, it doesn't even make me sad. It is just normal.\\n\\nHOW DO I FIX THIS?                                                                                                                                                                                                                                                                                                        1\n",
       "Is the alcohol being burned out like in cooking?                                                                                                                                                                                                                                                                                                                                                                                                                                                                                            1\n",
       "I’ve had this song stuck in my head but I can’t find the name of it. it would play before basketball players entering or during a sports assembly during the mid 2000’s. It goes dew dew dew dew dew dew - dew - dew dew dew dew dew dew dew dew- dew- dadew- dadew. I no this isn’t much help but its driving me mad                                                                                                                                                                                                                       1\n",
       "If it's too broad a question then the average American.                                                                                                                                                                                                                                                                                                                                                                                                                                                                                     1\n",
       "Name: selftext, Length: 1146, dtype: int64"
      ]
     },
     "execution_count": 601,
     "metadata": {},
     "output_type": "execute_result"
    }
   ],
   "source": [
    "nsq['selftext'].value_counts()"
   ]
  },
  {
   "cell_type": "markdown",
   "metadata": {},
   "source": [
    "### Acquiring 'TooAfraidToAsk' Data"
   ]
  },
  {
   "cell_type": "code",
   "execution_count": 602,
   "metadata": {},
   "outputs": [],
   "source": [
    "params = {\n",
    "    'subreddit' : 'TooAfraidToAsk',\n",
    "    'size' : 500,\n",
    "    'before' : 1585961257 #500 posts before Apr 3, 8:47PM (posts range from Apr 2 5:07PM to Apr 3 8:36PM)\n",
    "}\n"
   ]
  },
  {
   "cell_type": "code",
   "execution_count": 603,
   "metadata": {},
   "outputs": [
    {
     "data": {
      "text/plain": [
       "200"
      ]
     },
     "execution_count": 603,
     "metadata": {},
     "output_type": "execute_result"
    }
   ],
   "source": [
    "req = requests.get(url, params)\n",
    "req.status_code"
   ]
  },
  {
   "cell_type": "code",
   "execution_count": 604,
   "metadata": {},
   "outputs": [],
   "source": [
    "sq = req.json()\n",
    "posts = sq['data']\n",
    "df = pd.DataFrame(posts)"
   ]
  },
  {
   "cell_type": "code",
   "execution_count": 605,
   "metadata": {},
   "outputs": [
    {
     "data": {
      "text/plain": [
       "499    1585818469\n",
       "498    1585818880\n",
       "497    1585818946\n",
       "496    1585818961\n",
       "495    1585819243\n",
       "          ...    \n",
       "4      1585959934\n",
       "3      1585960438\n",
       "2      1585960559\n",
       "1      1585960596\n",
       "0      1585960605\n",
       "Name: created_utc, Length: 500, dtype: int64"
      ]
     },
     "execution_count": 605,
     "metadata": {},
     "output_type": "execute_result"
    }
   ],
   "source": [
    "df['created_utc'].sort_values()"
   ]
  },
  {
   "cell_type": "code",
   "execution_count": 606,
   "metadata": {},
   "outputs": [],
   "source": [
    "tata = df[['subreddit','selftext','title']]"
   ]
  },
  {
   "cell_type": "code",
   "execution_count": 607,
   "metadata": {},
   "outputs": [
    {
     "data": {
      "text/plain": [
       "                                                                                                                                                                                                                                                                                                                                                                                                                                                                                                                                                                                                                                                                                                                                                                                                                                                                                                                                                                                                                                                                                112\n",
       "[removed]                                                                                                                                                                                                                                                                                                                                                                                                                                                                                                                                                                                                                                                                                                                                                                                                                                                                                                                                                                                                                                                                       112\n",
       "[deleted]                                                                                                                                                                                                                                                                                                                                                                                                                                                                                                                                                                                                                                                                                                                                                                                                                                                                                                                                                                                                                                                                         3\n",
       "I ask because they elected a retard and justify all of his stupid mistakes. Meanwhile when Obama was president they criticized everything he did. I'm not saying Obama was perfect but he wasn't as bad as trump yet he got more slander. What kind of country is this? Why is this accepted that half the population are racist, hypocritical morons?                                                                                                                                                                                                                                                                                                                                                                                                                                                                                                                                                                                                                                                                                                                            2\n",
       "On the same topic why are there more women selling their (sexually explicit) pictures on the internet than men?                                                                                                                                                                                                                                                                                                                                                                                                                                                                                                                                                                                                                                                                                                                                                                                                                                                                                                                                                                   1\n",
       "                                                                                                                                                                                                                                                                                                                                                                                                                                                                                                                                                                                                                                                                                                                                                                                                                                                                                                                                                                                                                                                                               ... \n",
       "Colleges typically look at grades and gpas from high school juniors and sophomores when they apply but with the schools shut down, students' grades aren't doing so great. Are public colleges going to accommodate for this?                                                                                                                                                                                                                                                                                                                                                                                                                                                                                                                                                                                                                                                                                                                                                                                                                                                     1\n",
       "Like I don't think I need to tell you how many weird fetishes exist... and in comparison to stuff like reddit's favourite example r/sounding (VERY NSFW, it's stuff inserted into penises) it's even pretty tame. I just don't care about other people's fetishes, so why are people so obsessed over it to the point that they hate people who say they're into it? I know this sounds as a justification, no, I'm not into this fetish. I'm just not against it?  \\n\\n\\nOf course there's the iDubbbz situation that's mostly more evident right now, but that's not only it.\\n\\nLike another example I can think of is Hentai, I read it some times just to change things up, and people hate the Netorare genre (cuckold) so much they'll leave negative comments on a porn site on purpose. Like old youtube.  \\n\\n\\nAnd it's different from insulting someone as a cuckold, because that's an insult that \"makes sense\" (as much as an insult can make sense), because it's seen as emasculating kinda like calling someone gay, also an insult. It's a cuckoldphobia.      1\n",
       "Can someone fill me in on this?                                                                                                                                                                                                                                                                                                                                                                                                                                                                                                                                                                                                                                                                                                                                                                                                                                                                                                                                                                                                                                                   1\n",
       "Well it's been around 20 days since the lockdown.I have tried to do lots of things during this period but now it's come to a point where my mind is not working at all. I am unable to think about any particular subject and it feels like my mind is about to shut down permanently. There's no noise outside but it feels my mind's going to burst...                                                                                                                                                                                                                                                                                                                                                                                                                                                                                                                                                                                                                                                                                                                          1\n",
       "Just wanna know because usually I will have xanax when I trip on acid, but I very very rarely ever take acid or any drugs but now I am in quarantine and bored out of my mind I wanna trip a bit, but have no access to xanax pills, but I do have 1mg of kpin, would that be enough?                                                                                                                                                                                                                                                                                                                                                                                                                                                                                                                                                                                                                                                                                                                                                                                             1\n",
       "Name: selftext, Length: 271, dtype: int64"
      ]
     },
     "execution_count": 607,
     "metadata": {},
     "output_type": "execute_result"
    }
   ],
   "source": [
    "tata['selftext'].value_counts()"
   ]
  },
  {
   "cell_type": "code",
   "execution_count": 608,
   "metadata": {},
   "outputs": [],
   "source": [
    "params = {\n",
    "    'subreddit' : 'TooAfraidToAsk',\n",
    "    'size' : 500,\n",
    "    'before' : 1585818069 #500 posts before Apr 3, 8:47PM (posts range from Mar 31 1:57PM to Apr 2 4:45AM)\n",
    "}\n"
   ]
  },
  {
   "cell_type": "code",
   "execution_count": 609,
   "metadata": {},
   "outputs": [
    {
     "data": {
      "text/plain": [
       "200"
      ]
     },
     "execution_count": 609,
     "metadata": {},
     "output_type": "execute_result"
    }
   ],
   "source": [
    "req = requests.get(url, params)\n",
    "req.status_code"
   ]
  },
  {
   "cell_type": "code",
   "execution_count": 610,
   "metadata": {},
   "outputs": [],
   "source": [
    "sq = req.json()\n",
    "posts = sq['data']\n",
    "df = pd.DataFrame(posts)"
   ]
  },
  {
   "cell_type": "code",
   "execution_count": 611,
   "metadata": {},
   "outputs": [
    {
     "data": {
      "text/plain": [
       "499    1585677422\n",
       "498    1585677591\n",
       "497    1585678686\n",
       "496    1585678743\n",
       "495    1585678863\n",
       "          ...    \n",
       "4      1585815307\n",
       "3      1585815792\n",
       "2      1585815920\n",
       "1      1585816447\n",
       "0      1585817120\n",
       "Name: created_utc, Length: 500, dtype: int64"
      ]
     },
     "execution_count": 611,
     "metadata": {},
     "output_type": "execute_result"
    }
   ],
   "source": [
    "df['created_utc'].sort_values()"
   ]
  },
  {
   "cell_type": "code",
   "execution_count": 612,
   "metadata": {},
   "outputs": [],
   "source": [
    "tata1 = df[['subreddit','selftext','title']]"
   ]
  },
  {
   "cell_type": "code",
   "execution_count": 613,
   "metadata": {},
   "outputs": [],
   "source": [
    "tata = tata.append(tata1, ignore_index=True)"
   ]
  },
  {
   "cell_type": "code",
   "execution_count": 614,
   "metadata": {},
   "outputs": [],
   "source": [
    "params = {\n",
    "    'subreddit' : 'TooAfraidToAsk',\n",
    "    'size' : 500,\n",
    "    'before' : 1585677422 #500 posts before Apr 3, 8:47PM (posts range from Mar 29 10:11PM to Mar 31 1:53PM)\n",
    "}\n"
   ]
  },
  {
   "cell_type": "code",
   "execution_count": 615,
   "metadata": {},
   "outputs": [
    {
     "data": {
      "text/plain": [
       "200"
      ]
     },
     "execution_count": 615,
     "metadata": {},
     "output_type": "execute_result"
    }
   ],
   "source": [
    "req = requests.get(url, params)\n",
    "req.status_code"
   ]
  },
  {
   "cell_type": "code",
   "execution_count": 616,
   "metadata": {},
   "outputs": [],
   "source": [
    "sq = req.json()\n",
    "posts = sq['data']\n",
    "df = pd.DataFrame(posts)"
   ]
  },
  {
   "cell_type": "code",
   "execution_count": 617,
   "metadata": {},
   "outputs": [
    {
     "data": {
      "text/plain": [
       "499    1585534284\n",
       "498    1585534304\n",
       "497    1585534760\n",
       "496    1585535078\n",
       "495    1585535134\n",
       "          ...    \n",
       "4      1585676884\n",
       "3      1585677033\n",
       "2      1585677086\n",
       "1      1585677190\n",
       "0      1585677239\n",
       "Name: created_utc, Length: 500, dtype: int64"
      ]
     },
     "execution_count": 617,
     "metadata": {},
     "output_type": "execute_result"
    }
   ],
   "source": [
    "df['created_utc'].sort_values()"
   ]
  },
  {
   "cell_type": "code",
   "execution_count": 618,
   "metadata": {},
   "outputs": [],
   "source": [
    "tata2 = df[['subreddit','selftext','title']]"
   ]
  },
  {
   "cell_type": "code",
   "execution_count": 619,
   "metadata": {},
   "outputs": [],
   "source": [
    "tata = tata.append(tata2, ignore_index=True)"
   ]
  },
  {
   "cell_type": "code",
   "execution_count": 620,
   "metadata": {},
   "outputs": [],
   "source": [
    "params = {\n",
    "    'subreddit' : 'TooAfraidToAsk',\n",
    "    'size' : 500,\n",
    "    'before' : 1585534284 #500 posts before Apr 3, 8:47PM (posts range from Mar 28 4:23AM to Mar 29 10:11PM)\n",
    "}\n"
   ]
  },
  {
   "cell_type": "code",
   "execution_count": 621,
   "metadata": {},
   "outputs": [
    {
     "data": {
      "text/plain": [
       "200"
      ]
     },
     "execution_count": 621,
     "metadata": {},
     "output_type": "execute_result"
    }
   ],
   "source": [
    "req = requests.get(url, params)\n",
    "req.status_code"
   ]
  },
  {
   "cell_type": "code",
   "execution_count": 622,
   "metadata": {},
   "outputs": [],
   "source": [
    "sq = req.json()\n",
    "posts = sq['data']\n",
    "df = pd.DataFrame(posts)"
   ]
  },
  {
   "cell_type": "code",
   "execution_count": 623,
   "metadata": {},
   "outputs": [
    {
     "data": {
      "text/plain": [
       "499    1585383782\n",
       "498    1585385670\n",
       "497    1585385726\n",
       "496    1585386485\n",
       "495    1585386857\n",
       "          ...    \n",
       "4      1585533547\n",
       "3      1585533804\n",
       "2      1585533865\n",
       "1      1585533957\n",
       "0      1585534261\n",
       "Name: created_utc, Length: 500, dtype: int64"
      ]
     },
     "execution_count": 623,
     "metadata": {},
     "output_type": "execute_result"
    }
   ],
   "source": [
    "df['created_utc'].sort_values()"
   ]
  },
  {
   "cell_type": "code",
   "execution_count": 624,
   "metadata": {},
   "outputs": [],
   "source": [
    "tata3 = df[['subreddit','selftext','title']]"
   ]
  },
  {
   "cell_type": "code",
   "execution_count": 625,
   "metadata": {},
   "outputs": [],
   "source": [
    "tata = tata.append(tata3, ignore_index=True)"
   ]
  },
  {
   "cell_type": "markdown",
   "metadata": {},
   "source": [
    "### Merge 'NoStupidQuestions' and 'TooAfraidToAsk' posts together"
   ]
  },
  {
   "cell_type": "code",
   "execution_count": 860,
   "metadata": {},
   "outputs": [],
   "source": [
    "data = nsq.append(tata, ignore_index=True)"
   ]
  },
  {
   "cell_type": "code",
   "execution_count": 861,
   "metadata": {},
   "outputs": [
    {
     "data": {
      "text/html": [
       "<div>\n",
       "<style scoped>\n",
       "    .dataframe tbody tr th:only-of-type {\n",
       "        vertical-align: middle;\n",
       "    }\n",
       "\n",
       "    .dataframe tbody tr th {\n",
       "        vertical-align: top;\n",
       "    }\n",
       "\n",
       "    .dataframe thead th {\n",
       "        text-align: right;\n",
       "    }\n",
       "</style>\n",
       "<table border=\"1\" class=\"dataframe\">\n",
       "  <thead>\n",
       "    <tr style=\"text-align: right;\">\n",
       "      <th></th>\n",
       "      <th>subreddit</th>\n",
       "      <th>selftext</th>\n",
       "      <th>title</th>\n",
       "    </tr>\n",
       "  </thead>\n",
       "  <tbody>\n",
       "    <tr>\n",
       "      <th>0</th>\n",
       "      <td>NoStupidQuestions</td>\n",
       "      <td>[removed]</td>\n",
       "      <td>Local travel in the time of Corona</td>\n",
       "    </tr>\n",
       "    <tr>\n",
       "      <th>1</th>\n",
       "      <td>NoStupidQuestions</td>\n",
       "      <td>Like, that scene of Taken 3 of Liam Neeson jum...</td>\n",
       "      <td>In cinematography, why are cuts considered bad?</td>\n",
       "    </tr>\n",
       "    <tr>\n",
       "      <th>2</th>\n",
       "      <td>NoStupidQuestions</td>\n",
       "      <td>I need an advice, since I was grade 10 student...</td>\n",
       "      <td>This Decision will completely change my life</td>\n",
       "    </tr>\n",
       "    <tr>\n",
       "      <th>3</th>\n",
       "      <td>NoStupidQuestions</td>\n",
       "      <td>Every source I found says clinical depression ...</td>\n",
       "      <td>What gave some people the idea that clinical d...</td>\n",
       "    </tr>\n",
       "    <tr>\n",
       "      <th>4</th>\n",
       "      <td>NoStupidQuestions</td>\n",
       "      <td>My little brother (14) got an Xbox One and I g...</td>\n",
       "      <td>What exactly is the logic behind birthday pres...</td>\n",
       "    </tr>\n",
       "    <tr>\n",
       "      <th>...</th>\n",
       "      <td>...</td>\n",
       "      <td>...</td>\n",
       "      <td>...</td>\n",
       "    </tr>\n",
       "    <tr>\n",
       "      <th>3995</th>\n",
       "      <td>TooAfraidToAsk</td>\n",
       "      <td>I know that our body's become \"paralyzed\" to p...</td>\n",
       "      <td>Why don't we sneeze while sleeping?</td>\n",
       "    </tr>\n",
       "    <tr>\n",
       "      <th>3996</th>\n",
       "      <td>TooAfraidToAsk</td>\n",
       "      <td>I have a an android my volume is up but no sou...</td>\n",
       "      <td>Audio For Mobile Reddit App</td>\n",
       "    </tr>\n",
       "    <tr>\n",
       "      <th>3997</th>\n",
       "      <td>TooAfraidToAsk</td>\n",
       "      <td>[removed]</td>\n",
       "      <td>*SERIOUS ANSWERS ONLY* Is this a sign of menta...</td>\n",
       "    </tr>\n",
       "    <tr>\n",
       "      <th>3998</th>\n",
       "      <td>TooAfraidToAsk</td>\n",
       "      <td>So I read the news line about the U.S having a...</td>\n",
       "      <td>2 trillion bailout?</td>\n",
       "    </tr>\n",
       "    <tr>\n",
       "      <th>3999</th>\n",
       "      <td>TooAfraidToAsk</td>\n",
       "      <td>My mom seems to be annoyed when I fidget, but ...</td>\n",
       "      <td>I fidget a lot</td>\n",
       "    </tr>\n",
       "  </tbody>\n",
       "</table>\n",
       "<p>4000 rows × 3 columns</p>\n",
       "</div>"
      ],
      "text/plain": [
       "              subreddit                                           selftext  \\\n",
       "0     NoStupidQuestions                                          [removed]   \n",
       "1     NoStupidQuestions  Like, that scene of Taken 3 of Liam Neeson jum...   \n",
       "2     NoStupidQuestions  I need an advice, since I was grade 10 student...   \n",
       "3     NoStupidQuestions  Every source I found says clinical depression ...   \n",
       "4     NoStupidQuestions  My little brother (14) got an Xbox One and I g...   \n",
       "...                 ...                                                ...   \n",
       "3995     TooAfraidToAsk  I know that our body's become \"paralyzed\" to p...   \n",
       "3996     TooAfraidToAsk  I have a an android my volume is up but no sou...   \n",
       "3997     TooAfraidToAsk                                          [removed]   \n",
       "3998     TooAfraidToAsk  So I read the news line about the U.S having a...   \n",
       "3999     TooAfraidToAsk  My mom seems to be annoyed when I fidget, but ...   \n",
       "\n",
       "                                                  title  \n",
       "0                    Local travel in the time of Corona  \n",
       "1       In cinematography, why are cuts considered bad?  \n",
       "2          This Decision will completely change my life  \n",
       "3     What gave some people the idea that clinical d...  \n",
       "4     What exactly is the logic behind birthday pres...  \n",
       "...                                                 ...  \n",
       "3995                Why don't we sneeze while sleeping?  \n",
       "3996                        Audio For Mobile Reddit App  \n",
       "3997  *SERIOUS ANSWERS ONLY* Is this a sign of menta...  \n",
       "3998                                2 trillion bailout?  \n",
       "3999                                     I fidget a lot  \n",
       "\n",
       "[4000 rows x 3 columns]"
      ]
     },
     "execution_count": 861,
     "metadata": {},
     "output_type": "execute_result"
    }
   ],
   "source": [
    "data"
   ]
  },
  {
   "cell_type": "markdown",
   "metadata": {},
   "source": [
    "## Exploratory Data Analysis"
   ]
  },
  {
   "cell_type": "code",
   "execution_count": 862,
   "metadata": {},
   "outputs": [
    {
     "name": "stdout",
     "output_type": "stream",
     "text": [
      "<class 'pandas.core.frame.DataFrame'>\n",
      "RangeIndex: 4000 entries, 0 to 3999\n",
      "Data columns (total 3 columns):\n",
      " #   Column     Non-Null Count  Dtype \n",
      "---  ------     --------------  ----- \n",
      " 0   subreddit  4000 non-null   object\n",
      " 1   selftext   3961 non-null   object\n",
      " 2   title      4000 non-null   object\n",
      "dtypes: object(3)\n",
      "memory usage: 93.9+ KB\n"
     ]
    }
   ],
   "source": [
    "data.info() #note, original pull of 1000 posts from each subreddit was expanded to 2000 posts due to high number of [deleted] and [removed] posts"
   ]
  },
  {
   "cell_type": "code",
   "execution_count": 863,
   "metadata": {},
   "outputs": [
    {
     "data": {
      "text/plain": [
       "39"
      ]
     },
     "execution_count": 863,
     "metadata": {},
     "output_type": "execute_result"
    }
   ],
   "source": [
    "data['selftext'].isnull().sum()"
   ]
  },
  {
   "cell_type": "code",
   "execution_count": 864,
   "metadata": {},
   "outputs": [
    {
     "data": {
      "text/plain": [
       "                                                                                                                                                                                                                                                                                                                                                                                                                                                                                                                                                                                                                                                                                                                                                                                                                                                                                                                                                                                                                                                                                                                                                                                                                                                                                                          1023\n",
       "[removed]                                                                                                                                                                                                                                                                                                                                                                                                                                                                                                                                                                                                                                                                                                                                                                                                                                                                                                                                                                                                                                                                                                                                                                                                                                                                                                  671\n",
       "[deleted]                                                                                                                                                                                                                                                                                                                                                                                                                                                                                                                                                                                                                                                                                                                                                                                                                                                                                                                                                                                                                                                                                                                                                                                                                                                                                                   43\n",
       "Every source I found says clinical depression is caused by a combination of genetic and environmental factors. It’s called nature vs nurture. I don’t get why people are saying that it has no external causes, that it’s caused by genetics only.\\n\\n‘Nature vs. nurture: Study shows genetic links to depression’ https://www.abc.net.au/triplej/programs/hack/depression-genetics-study/7682774\\n\\n‘THE GENETIC MAKEUP OF DEPRESSION: NATURE, NURTURE AND A NEW STUDY‘ https://newjerseyketamine.com/genetics-depression-treatment/                                                                                                                                                                                                                                                                                                                                                                                                                                                                                                                                                                                                                                                                                                                                                                       3\n",
       "I have family and friends who say \"I want three Glocks and at least two ak-47\" what is the point, besides exercising your right to bear arms? I'd rather have different types of guns and not the same gun repeated.                                                                                                                                                                                                                                                                                                                                                                                                                                                                                                                                                                                                                                                                                                                                                                                                                                                                                                                                                                                                                                                                                         3\n",
       "                                                                                                                                                                                                                                                                                                                                                                                                                                                                                                                                                                                                                                                                                                                                                                                                                                                                                                                                                                                                                                                                                                                                                                                                                                                                                                          ... \n",
       "(M20) Why can’t I reach ejaculation when I masturbate?\\n\\nIf there is a better sub to post this in please direct me there.\\n\\nI am a 20 yr old male, a virgin, and coming from a religious household where sex and masturbation were never discussed, I’ve only recently began masturbating within the past few years. \\n\\nThe issue I am facing is that I am unable to reach ejaculation when I masturbate. I tend to release a lot of clear pre ejaculate but the climax never comes. Sometimes I will begin to feel a stinging sensation and I will often have to stop and wait for it to die down. If my erection lasts for a long time I also tend to get pain in my testicles the next day (blue balls) which is pretty uncomfortable. \\n\\nI don’t know if it is something I am doing wrong or if there is something medically wrong that I should have checked out. I have a moderate sex drive and find things sexually attractive, and have also had wet dreams where i believe I have ejaculated from but I can’t seem to do it during masturbation.                                                                                                                                                                                                                                               1\n",
       "Do people think face masks will protect them from the virus or are they are sick and they are blocking their own germs from infecting others? \\n\\nI lived in a few asian countries a few years ago and was told people wear masks when they are sick and want to be considerate to strangers and not cough and sneeze all over the place (was also a fashion trend for some kids). I also looked up online that the masks dont do very much to protect you from illness.\\n\\nLiving abroad has caused me to automatically not want to go near people who are wearing masks because I assume they are sick and being courteous. But under today's circumstances if you suspect you are sick you need to be home.\\n\\nAnd a related question:\\nWhy are people wearing gloves to do every single activity? It defeats the purpose of wearing gloves! For example, if you wear gloves in the store, push a grocery cart, touch groceries, make a phonecall, then touch your car door, steering wheel, seat belt, house door knob, all while wearing the same pair of gloves, you just caught corona if the virus was anywhere your gloves touched. Just wash your hands in between activities and every time you enter your home.\\n\\nAlso stop throwing your dirty ass masks and gloves all over the ground.       1\n",
       "I can push it in with my fingers. Why?                                                                                                                                                                                                                                                                                                                                                                                                                                                                                                                                                                                                                                                                                                                                                                                                                                                                                                                                                                                                                                                                                                                                                                                                                                                                       1\n",
       "To start off with, I'll try not to have any political bias in this post, either towards or against Trump. What I wanted to know is why it seems like so many people dislike him.\\n\\nI can't deny Trump has said some dumb or \"uninformed\" things in the past, but hasn't everyone? Is this held against him because there's a different standard for the US president? I feel like, while he says and does stupid stuff, he has helped at least some. Trump obviously isn't comparable to some former presidents, but I wouldn't call him the worst.\\n\\nI feel like Trump has helped. I can't state many examples for either side because I haven't followed politics in a while, but didn't he help with the economy? If I remember correctly, Hillary won the popular vote, so would she have been better?\\n\\nWith that said, I know this may not have been written very well, but I would like some feedback. I don't intend to get into a political debate, but I would like to know why it seems like most people don't like Trump.                                                                                                                                                                                                                                                                     1\n",
       "Sort of like a balancing act, you know?                                                                                                                                                                                                                                                                                                                                                                                                                                                                                                                                                                                                                                                                                                                                                                                                                                                                                                                                                                                                                                                                                                                                                                                                                                                                      1\n",
       "Name: selftext, Length: 2209, dtype: int64"
      ]
     },
     "execution_count": 864,
     "metadata": {},
     "output_type": "execute_result"
    }
   ],
   "source": [
    "data['selftext'].value_counts()"
   ]
  },
  {
   "cell_type": "markdown",
   "metadata": {},
   "source": [
    "Based on the above, there are 39 null values in the 'selftext' field. Additionally, 1023 entries are blanks, 671 have been removed and 43 entries were deleted. The null values and blanks will be replaced by the title. Per reddit, \\[removed\\] posts were removed by mods or admin while the \\[deleted\\] posts were deleted by the user. According to this, posts with both of these categories should be removed from our analysis as they have either been flagged as inappropriate for the subreddit or withdrawn by the asker. The deleted posts may or may not be added back to the dataset depeding on the modeling results and time permitting."
   ]
  },
  {
   "cell_type": "code",
   "execution_count": 865,
   "metadata": {},
   "outputs": [],
   "source": [
    "data['selftext'].replace(np.NaN, data['title'], inplace=True)"
   ]
  },
  {
   "cell_type": "code",
   "execution_count": 866,
   "metadata": {},
   "outputs": [
    {
     "data": {
      "text/plain": [
       "0"
      ]
     },
     "execution_count": 866,
     "metadata": {},
     "output_type": "execute_result"
    }
   ],
   "source": [
    "data['selftext'].isnull().sum()"
   ]
  },
  {
   "cell_type": "code",
   "execution_count": 867,
   "metadata": {},
   "outputs": [],
   "source": [
    "data['selftext'].replace(\"\", data['title'], inplace=True)\n"
   ]
  },
  {
   "cell_type": "code",
   "execution_count": 868,
   "metadata": {},
   "outputs": [
    {
     "name": "stdout",
     "output_type": "stream",
     "text": [
      "197\n"
     ]
    }
   ],
   "source": [
    "for i in range(len(data['selftext'])):\n",
    "    if 'skeleton' in data.loc[i,'title']:\n",
    "        print (i)"
   ]
  },
  {
   "cell_type": "code",
   "execution_count": 869,
   "metadata": {},
   "outputs": [
    {
     "data": {
      "text/plain": [
       "'##'"
      ]
     },
     "execution_count": 869,
     "metadata": {},
     "output_type": "execute_result"
    }
   ],
   "source": [
    "data.loc[197,'selftext'] #defective row, to be adjusted at end of cleaning"
   ]
  },
  {
   "cell_type": "code",
   "execution_count": 870,
   "metadata": {},
   "outputs": [
    {
     "name": "stdout",
     "output_type": "stream",
     "text": [
      "3652\n",
      "3655\n"
     ]
    }
   ],
   "source": [
    "for i in range(len(data['selftext'])):\n",
    "    if 'upvote counter' in data.loc[i,'title']:\n",
    "        print (i)"
   ]
  },
  {
   "cell_type": "code",
   "execution_count": 871,
   "metadata": {},
   "outputs": [
    {
     "data": {
      "text/plain": [
       "'.'"
      ]
     },
     "execution_count": 871,
     "metadata": {},
     "output_type": "execute_result"
    }
   ],
   "source": [
    "data.loc[3652,'selftext'] #defective row, to be adjusted at end of cleaning"
   ]
  },
  {
   "cell_type": "code",
   "execution_count": 872,
   "metadata": {},
   "outputs": [
    {
     "data": {
      "text/plain": [
       "'[removed]'"
      ]
     },
     "execution_count": 872,
     "metadata": {},
     "output_type": "execute_result"
    }
   ],
   "source": [
    "data.loc[3655,'selftext']"
   ]
  },
  {
   "cell_type": "code",
   "execution_count": 873,
   "metadata": {},
   "outputs": [],
   "source": [
    "data['selftext'] = [data.loc[i,'title'] if data.loc[i,'selftext'].isspace() else data.loc[i,'selftext'] for i in range(len(data['selftext']))] #Inserted as above code didn't catch all blank 'selftext' rows."
   ]
  },
  {
   "cell_type": "code",
   "execution_count": 874,
   "metadata": {},
   "outputs": [
    {
     "data": {
      "text/html": [
       "<div>\n",
       "<style scoped>\n",
       "    .dataframe tbody tr th:only-of-type {\n",
       "        vertical-align: middle;\n",
       "    }\n",
       "\n",
       "    .dataframe tbody tr th {\n",
       "        vertical-align: top;\n",
       "    }\n",
       "\n",
       "    .dataframe thead th {\n",
       "        text-align: right;\n",
       "    }\n",
       "</style>\n",
       "<table border=\"1\" class=\"dataframe\">\n",
       "  <thead>\n",
       "    <tr style=\"text-align: right;\">\n",
       "      <th></th>\n",
       "      <th>subreddit</th>\n",
       "      <th>selftext</th>\n",
       "      <th>title</th>\n",
       "    </tr>\n",
       "  </thead>\n",
       "  <tbody>\n",
       "    <tr>\n",
       "      <th>466</th>\n",
       "      <td>NoStupidQuestions</td>\n",
       "      <td>I’m not good at electronic stuff so are all th...</td>\n",
       "      <td>Security camera question</td>\n",
       "    </tr>\n",
       "    <tr>\n",
       "      <th>487</th>\n",
       "      <td>NoStupidQuestions</td>\n",
       "      <td>\\nI’m not good at electronic stuff so are all ...</td>\n",
       "      <td>Security camera question</td>\n",
       "    </tr>\n",
       "    <tr>\n",
       "      <th>583</th>\n",
       "      <td>NoStupidQuestions</td>\n",
       "      <td>I have family and friends who say \"I want thre...</td>\n",
       "      <td>What is the point in having multiples of the s...</td>\n",
       "    </tr>\n",
       "    <tr>\n",
       "      <th>584</th>\n",
       "      <td>NoStupidQuestions</td>\n",
       "      <td>I have family and friends who say \"I want thre...</td>\n",
       "      <td>What is the point in having multiples of the s...</td>\n",
       "    </tr>\n",
       "    <tr>\n",
       "      <th>589</th>\n",
       "      <td>NoStupidQuestions</td>\n",
       "      <td>So I just got a message from Reddit saying tha...</td>\n",
       "      <td>So I just got a message from Reddit saying tha...</td>\n",
       "    </tr>\n",
       "    <tr>\n",
       "      <th>633</th>\n",
       "      <td>NoStupidQuestions</td>\n",
       "      <td>I've heard a little bit about the transition o...</td>\n",
       "      <td>What is the reputation for Academy Schools in UK?</td>\n",
       "    </tr>\n",
       "    <tr>\n",
       "      <th>733</th>\n",
       "      <td>NoStupidQuestions</td>\n",
       "      <td>Msg vs molly</td>\n",
       "      <td>Who badder</td>\n",
       "    </tr>\n",
       "    <tr>\n",
       "      <th>734</th>\n",
       "      <td>NoStupidQuestions</td>\n",
       "      <td>Msg vs coke</td>\n",
       "      <td>Who badder</td>\n",
       "    </tr>\n",
       "    <tr>\n",
       "      <th>735</th>\n",
       "      <td>NoStupidQuestions</td>\n",
       "      <td>Msg vs thc</td>\n",
       "      <td>Who badder</td>\n",
       "    </tr>\n",
       "    <tr>\n",
       "      <th>938</th>\n",
       "      <td>NoStupidQuestions</td>\n",
       "      <td>Does my account need to be 30 days old?</td>\n",
       "      <td>Can you make your own subreddit on mobile?</td>\n",
       "    </tr>\n",
       "    <tr>\n",
       "      <th>1020</th>\n",
       "      <td>NoStupidQuestions</td>\n",
       "      <td>At college at the moment, and even when I was ...</td>\n",
       "      <td>Why do I feel weird when waking up? It’s some ...</td>\n",
       "    </tr>\n",
       "    <tr>\n",
       "      <th>1028</th>\n",
       "      <td>NoStupidQuestions</td>\n",
       "      <td>How many different types of “energies” are the...</td>\n",
       "      <td>How many different types of “energies” are the...</td>\n",
       "    </tr>\n",
       "    <tr>\n",
       "      <th>1237</th>\n",
       "      <td>NoStupidQuestions</td>\n",
       "      <td>Every source I found says clinical depression ...</td>\n",
       "      <td>Who gave people the idea that clinical depress...</td>\n",
       "    </tr>\n",
       "    <tr>\n",
       "      <th>1347</th>\n",
       "      <td>NoStupidQuestions</td>\n",
       "      <td>During these times of crisis, can the whole wo...</td>\n",
       "      <td>During these times of crisis, can the whole wo...</td>\n",
       "    </tr>\n",
       "    <tr>\n",
       "      <th>1426</th>\n",
       "      <td>NoStupidQuestions</td>\n",
       "      <td>[removed]</td>\n",
       "      <td>Who gave people the idea that clinical depress...</td>\n",
       "    </tr>\n",
       "    <tr>\n",
       "      <th>1633</th>\n",
       "      <td>NoStupidQuestions</td>\n",
       "      <td>[removed]</td>\n",
       "      <td>Why does everybody think clinical depression i...</td>\n",
       "    </tr>\n",
       "    <tr>\n",
       "      <th>1678</th>\n",
       "      <td>NoStupidQuestions</td>\n",
       "      <td>[removed]</td>\n",
       "      <td>Why does everybody think clinical depression i...</td>\n",
       "    </tr>\n",
       "    <tr>\n",
       "      <th>1716</th>\n",
       "      <td>NoStupidQuestions</td>\n",
       "      <td>[removed]</td>\n",
       "      <td>Who/what are the Chinese communist party and w...</td>\n",
       "    </tr>\n",
       "    <tr>\n",
       "      <th>2015</th>\n",
       "      <td>TooAfraidToAsk</td>\n",
       "      <td>What does it mean if a guy says you are differ...</td>\n",
       "      <td>What does it mean if a guy says you are differ...</td>\n",
       "    </tr>\n",
       "    <tr>\n",
       "      <th>2041</th>\n",
       "      <td>TooAfraidToAsk</td>\n",
       "      <td>There were some really cute male nurses at the...</td>\n",
       "      <td>Can doctors and nurses tell when a patient is ...</td>\n",
       "    </tr>\n",
       "    <tr>\n",
       "      <th>2066</th>\n",
       "      <td>TooAfraidToAsk</td>\n",
       "      <td>How do guys feel about being called cute by a ...</td>\n",
       "      <td>How do guys feel about being called cute by a ...</td>\n",
       "    </tr>\n",
       "    <tr>\n",
       "      <th>2165</th>\n",
       "      <td>TooAfraidToAsk</td>\n",
       "      <td>[removed]</td>\n",
       "      <td>what is a cowlick and how would I know if i ha...</td>\n",
       "    </tr>\n",
       "    <tr>\n",
       "      <th>2167</th>\n",
       "      <td>TooAfraidToAsk</td>\n",
       "      <td>On the same topic why are there more women sel...</td>\n",
       "      <td>Why are there more female sex workers than male?</td>\n",
       "    </tr>\n",
       "    <tr>\n",
       "      <th>2175</th>\n",
       "      <td>TooAfraidToAsk</td>\n",
       "      <td>Hear that term a lot when people talk about ma...</td>\n",
       "      <td>What is a widow's peak and does it lead to bal...</td>\n",
       "    </tr>\n",
       "    <tr>\n",
       "      <th>2259</th>\n",
       "      <td>TooAfraidToAsk</td>\n",
       "      <td>[removed]</td>\n",
       "      <td>Am I sadistic or what?</td>\n",
       "    </tr>\n",
       "    <tr>\n",
       "      <th>2277</th>\n",
       "      <td>TooAfraidToAsk</td>\n",
       "      <td>[removed]</td>\n",
       "      <td>Is it okay to not be attracted to some races?</td>\n",
       "    </tr>\n",
       "    <tr>\n",
       "      <th>2309</th>\n",
       "      <td>TooAfraidToAsk</td>\n",
       "      <td>Do abusive people know they are abusive?</td>\n",
       "      <td>Do abusive people know they are abusive?</td>\n",
       "    </tr>\n",
       "    <tr>\n",
       "      <th>2314</th>\n",
       "      <td>TooAfraidToAsk</td>\n",
       "      <td>[removed]</td>\n",
       "      <td>Is the penis head supposed to be an internal s...</td>\n",
       "    </tr>\n",
       "    <tr>\n",
       "      <th>2342</th>\n",
       "      <td>TooAfraidToAsk</td>\n",
       "      <td>Hi, so... Since the pandemic hit my country (N...</td>\n",
       "      <td>Asking for subscriptions?</td>\n",
       "    </tr>\n",
       "    <tr>\n",
       "      <th>2572</th>\n",
       "      <td>TooAfraidToAsk</td>\n",
       "      <td>[removed]</td>\n",
       "      <td>Is Nancy Pelosi a robot?</td>\n",
       "    </tr>\n",
       "    <tr>\n",
       "      <th>2593</th>\n",
       "      <td>TooAfraidToAsk</td>\n",
       "      <td>[removed]</td>\n",
       "      <td>Is it normal to be into extreme fetishes the m...</td>\n",
       "    </tr>\n",
       "    <tr>\n",
       "      <th>2625</th>\n",
       "      <td>TooAfraidToAsk</td>\n",
       "      <td>[removed]</td>\n",
       "      <td>Why is it that cosmetic surgery is looked down...</td>\n",
       "    </tr>\n",
       "    <tr>\n",
       "      <th>2629</th>\n",
       "      <td>TooAfraidToAsk</td>\n",
       "      <td>[removed]</td>\n",
       "      <td>Do you ever wonder how much you weren't taught...</td>\n",
       "    </tr>\n",
       "    <tr>\n",
       "      <th>2672</th>\n",
       "      <td>TooAfraidToAsk</td>\n",
       "      <td>Do you ever wonder how much you weren't taught...</td>\n",
       "      <td>Do you ever wonder how much you weren't taught...</td>\n",
       "    </tr>\n",
       "    <tr>\n",
       "      <th>2679</th>\n",
       "      <td>TooAfraidToAsk</td>\n",
       "      <td>As the title suggest im wondering how to(for b...</td>\n",
       "      <td>How to shave pubes smooth without razor burn?</td>\n",
       "    </tr>\n",
       "    <tr>\n",
       "      <th>2680</th>\n",
       "      <td>TooAfraidToAsk</td>\n",
       "      <td>As the title suggest im wondering how to(for b...</td>\n",
       "      <td>How to shave pubes smooth without razor burn?</td>\n",
       "    </tr>\n",
       "    <tr>\n",
       "      <th>2684</th>\n",
       "      <td>TooAfraidToAsk</td>\n",
       "      <td>[removed]</td>\n",
       "      <td>Why are people offended when you sleep with th...</td>\n",
       "    </tr>\n",
       "    <tr>\n",
       "      <th>2685</th>\n",
       "      <td>TooAfraidToAsk</td>\n",
       "      <td>[removed]</td>\n",
       "      <td>Why are people offended when you sleep with th...</td>\n",
       "    </tr>\n",
       "    <tr>\n",
       "      <th>2725</th>\n",
       "      <td>TooAfraidToAsk</td>\n",
       "      <td>Is it just me or is Murakami extremely sexist?</td>\n",
       "      <td>Is it just me or is Murakami extremely sexist?</td>\n",
       "    </tr>\n",
       "    <tr>\n",
       "      <th>2737</th>\n",
       "      <td>TooAfraidToAsk</td>\n",
       "      <td>[removed]</td>\n",
       "      <td>Why do chain comments get many upvotes?</td>\n",
       "    </tr>\n",
       "    <tr>\n",
       "      <th>2765</th>\n",
       "      <td>TooAfraidToAsk</td>\n",
       "      <td>That scene in Red Eye. really i think i just w...</td>\n",
       "      <td>How weird is it if a certain movie scene made ...</td>\n",
       "    </tr>\n",
       "    <tr>\n",
       "      <th>2766</th>\n",
       "      <td>TooAfraidToAsk</td>\n",
       "      <td>[removed]</td>\n",
       "      <td>How weird is it if a certain movie scene made ...</td>\n",
       "    </tr>\n",
       "    <tr>\n",
       "      <th>2928</th>\n",
       "      <td>TooAfraidToAsk</td>\n",
       "      <td>[removed]</td>\n",
       "      <td>Is it wrong to be an advocate for female body ...</td>\n",
       "    </tr>\n",
       "    <tr>\n",
       "      <th>3183</th>\n",
       "      <td>TooAfraidToAsk</td>\n",
       "      <td>[removed]</td>\n",
       "      <td>What's it like to get your ass pegged by a girl?</td>\n",
       "    </tr>\n",
       "    <tr>\n",
       "      <th>3365</th>\n",
       "      <td>TooAfraidToAsk</td>\n",
       "      <td>I mean it's average size saying 5 inches is sm...</td>\n",
       "      <td>Why do people think 5 inches is small?</td>\n",
       "    </tr>\n",
       "    <tr>\n",
       "      <th>3366</th>\n",
       "      <td>TooAfraidToAsk</td>\n",
       "      <td>I mean it's average size saying 5 inches is sm...</td>\n",
       "      <td>Why do people think 5 inches is small?</td>\n",
       "    </tr>\n",
       "    <tr>\n",
       "      <th>3399</th>\n",
       "      <td>TooAfraidToAsk</td>\n",
       "      <td>The last couple of weeks i've had severly bad ...</td>\n",
       "      <td>What's wrong with me?</td>\n",
       "    </tr>\n",
       "    <tr>\n",
       "      <th>3625</th>\n",
       "      <td>TooAfraidToAsk</td>\n",
       "      <td>[removed]</td>\n",
       "      <td>Have you ever tried to get a prostate exam fro...</td>\n",
       "    </tr>\n",
       "    <tr>\n",
       "      <th>3639</th>\n",
       "      <td>TooAfraidToAsk</td>\n",
       "      <td>To Americans– what is your opinion on how Amer...</td>\n",
       "      <td>To Americans– what is your opinion on how Amer...</td>\n",
       "    </tr>\n",
       "    <tr>\n",
       "      <th>3688</th>\n",
       "      <td>TooAfraidToAsk</td>\n",
       "      <td>(Okay, the title is a bit dramatic but I don't...</td>\n",
       "      <td>Is there something wrong with me?</td>\n",
       "    </tr>\n",
       "    <tr>\n",
       "      <th>3827</th>\n",
       "      <td>TooAfraidToAsk</td>\n",
       "      <td>Too afraid to ask because I may not like the a...</td>\n",
       "      <td>When will this end?</td>\n",
       "    </tr>\n",
       "    <tr>\n",
       "      <th>3894</th>\n",
       "      <td>TooAfraidToAsk</td>\n",
       "      <td>[removed]</td>\n",
       "      <td>What exactly are people supposed to do if they...</td>\n",
       "    </tr>\n",
       "    <tr>\n",
       "      <th>3956</th>\n",
       "      <td>TooAfraidToAsk</td>\n",
       "      <td>[removed]</td>\n",
       "      <td>Is it rude if i ask my friend about her family...</td>\n",
       "    </tr>\n",
       "  </tbody>\n",
       "</table>\n",
       "</div>"
      ],
      "text/plain": [
       "              subreddit                                           selftext  \\\n",
       "466   NoStupidQuestions  I’m not good at electronic stuff so are all th...   \n",
       "487   NoStupidQuestions  \\nI’m not good at electronic stuff so are all ...   \n",
       "583   NoStupidQuestions  I have family and friends who say \"I want thre...   \n",
       "584   NoStupidQuestions  I have family and friends who say \"I want thre...   \n",
       "589   NoStupidQuestions  So I just got a message from Reddit saying tha...   \n",
       "633   NoStupidQuestions  I've heard a little bit about the transition o...   \n",
       "733   NoStupidQuestions                                       Msg vs molly   \n",
       "734   NoStupidQuestions                                        Msg vs coke   \n",
       "735   NoStupidQuestions                                         Msg vs thc   \n",
       "938   NoStupidQuestions            Does my account need to be 30 days old?   \n",
       "1020  NoStupidQuestions  At college at the moment, and even when I was ...   \n",
       "1028  NoStupidQuestions  How many different types of “energies” are the...   \n",
       "1237  NoStupidQuestions  Every source I found says clinical depression ...   \n",
       "1347  NoStupidQuestions  During these times of crisis, can the whole wo...   \n",
       "1426  NoStupidQuestions                                          [removed]   \n",
       "1633  NoStupidQuestions                                          [removed]   \n",
       "1678  NoStupidQuestions                                          [removed]   \n",
       "1716  NoStupidQuestions                                          [removed]   \n",
       "2015     TooAfraidToAsk  What does it mean if a guy says you are differ...   \n",
       "2041     TooAfraidToAsk  There were some really cute male nurses at the...   \n",
       "2066     TooAfraidToAsk  How do guys feel about being called cute by a ...   \n",
       "2165     TooAfraidToAsk                                          [removed]   \n",
       "2167     TooAfraidToAsk  On the same topic why are there more women sel...   \n",
       "2175     TooAfraidToAsk  Hear that term a lot when people talk about ma...   \n",
       "2259     TooAfraidToAsk                                          [removed]   \n",
       "2277     TooAfraidToAsk                                          [removed]   \n",
       "2309     TooAfraidToAsk           Do abusive people know they are abusive?   \n",
       "2314     TooAfraidToAsk                                          [removed]   \n",
       "2342     TooAfraidToAsk  Hi, so... Since the pandemic hit my country (N...   \n",
       "2572     TooAfraidToAsk                                          [removed]   \n",
       "2593     TooAfraidToAsk                                          [removed]   \n",
       "2625     TooAfraidToAsk                                          [removed]   \n",
       "2629     TooAfraidToAsk                                          [removed]   \n",
       "2672     TooAfraidToAsk  Do you ever wonder how much you weren't taught...   \n",
       "2679     TooAfraidToAsk  As the title suggest im wondering how to(for b...   \n",
       "2680     TooAfraidToAsk  As the title suggest im wondering how to(for b...   \n",
       "2684     TooAfraidToAsk                                          [removed]   \n",
       "2685     TooAfraidToAsk                                          [removed]   \n",
       "2725     TooAfraidToAsk     Is it just me or is Murakami extremely sexist?   \n",
       "2737     TooAfraidToAsk                                          [removed]   \n",
       "2765     TooAfraidToAsk  That scene in Red Eye. really i think i just w...   \n",
       "2766     TooAfraidToAsk                                          [removed]   \n",
       "2928     TooAfraidToAsk                                          [removed]   \n",
       "3183     TooAfraidToAsk                                          [removed]   \n",
       "3365     TooAfraidToAsk  I mean it's average size saying 5 inches is sm...   \n",
       "3366     TooAfraidToAsk  I mean it's average size saying 5 inches is sm...   \n",
       "3399     TooAfraidToAsk  The last couple of weeks i've had severly bad ...   \n",
       "3625     TooAfraidToAsk                                          [removed]   \n",
       "3639     TooAfraidToAsk  To Americans– what is your opinion on how Amer...   \n",
       "3688     TooAfraidToAsk  (Okay, the title is a bit dramatic but I don't...   \n",
       "3827     TooAfraidToAsk  Too afraid to ask because I may not like the a...   \n",
       "3894     TooAfraidToAsk                                          [removed]   \n",
       "3956     TooAfraidToAsk                                          [removed]   \n",
       "\n",
       "                                                  title  \n",
       "466                            Security camera question  \n",
       "487                            Security camera question  \n",
       "583   What is the point in having multiples of the s...  \n",
       "584   What is the point in having multiples of the s...  \n",
       "589   So I just got a message from Reddit saying tha...  \n",
       "633   What is the reputation for Academy Schools in UK?  \n",
       "733                                          Who badder  \n",
       "734                                          Who badder  \n",
       "735                                          Who badder  \n",
       "938          Can you make your own subreddit on mobile?  \n",
       "1020  Why do I feel weird when waking up? It’s some ...  \n",
       "1028  How many different types of “energies” are the...  \n",
       "1237  Who gave people the idea that clinical depress...  \n",
       "1347  During these times of crisis, can the whole wo...  \n",
       "1426  Who gave people the idea that clinical depress...  \n",
       "1633  Why does everybody think clinical depression i...  \n",
       "1678  Why does everybody think clinical depression i...  \n",
       "1716  Who/what are the Chinese communist party and w...  \n",
       "2015  What does it mean if a guy says you are differ...  \n",
       "2041  Can doctors and nurses tell when a patient is ...  \n",
       "2066  How do guys feel about being called cute by a ...  \n",
       "2165  what is a cowlick and how would I know if i ha...  \n",
       "2167   Why are there more female sex workers than male?  \n",
       "2175  What is a widow's peak and does it lead to bal...  \n",
       "2259                             Am I sadistic or what?  \n",
       "2277      Is it okay to not be attracted to some races?  \n",
       "2309           Do abusive people know they are abusive?  \n",
       "2314  Is the penis head supposed to be an internal s...  \n",
       "2342                          Asking for subscriptions?  \n",
       "2572                           Is Nancy Pelosi a robot?  \n",
       "2593  Is it normal to be into extreme fetishes the m...  \n",
       "2625  Why is it that cosmetic surgery is looked down...  \n",
       "2629  Do you ever wonder how much you weren't taught...  \n",
       "2672  Do you ever wonder how much you weren't taught...  \n",
       "2679      How to shave pubes smooth without razor burn?  \n",
       "2680      How to shave pubes smooth without razor burn?  \n",
       "2684  Why are people offended when you sleep with th...  \n",
       "2685  Why are people offended when you sleep with th...  \n",
       "2725     Is it just me or is Murakami extremely sexist?  \n",
       "2737            Why do chain comments get many upvotes?  \n",
       "2765  How weird is it if a certain movie scene made ...  \n",
       "2766  How weird is it if a certain movie scene made ...  \n",
       "2928  Is it wrong to be an advocate for female body ...  \n",
       "3183   What's it like to get your ass pegged by a girl?  \n",
       "3365             Why do people think 5 inches is small?  \n",
       "3366             Why do people think 5 inches is small?  \n",
       "3399                              What's wrong with me?  \n",
       "3625  Have you ever tried to get a prostate exam fro...  \n",
       "3639  To Americans– what is your opinion on how Amer...  \n",
       "3688                  Is there something wrong with me?  \n",
       "3827                                When will this end?  \n",
       "3894  What exactly are people supposed to do if they...  \n",
       "3956  Is it rude if i ask my friend about her family...  "
      ]
     },
     "execution_count": 874,
     "metadata": {},
     "output_type": "execute_result"
    }
   ],
   "source": [
    "# Select duplicate rows except first occurrence based on all columns\n",
    "duplicateRowsDF = data[data.duplicated(['title'])]\n",
    " \n",
    "duplicateRowsDF"
   ]
  },
  {
   "cell_type": "markdown",
   "metadata": {},
   "source": [
    "These are duplicate posts that will need to be removed"
   ]
  },
  {
   "cell_type": "code",
   "execution_count": 875,
   "metadata": {},
   "outputs": [
    {
     "data": {
      "text/plain": [
       "(53, 3)"
      ]
     },
     "execution_count": 875,
     "metadata": {},
     "output_type": "execute_result"
    }
   ],
   "source": [
    "duplicateRowsDF.shape"
   ]
  },
  {
   "cell_type": "code",
   "execution_count": 876,
   "metadata": {},
   "outputs": [
    {
     "data": {
      "text/plain": [
       "Int64Index([ 466,  487,  583,  584,  589,  633,  733,  734,  735,  938, 1020,\n",
       "            1028, 1237, 1347, 1426, 1633, 1678, 1716, 2015, 2041, 2066, 2165,\n",
       "            2167, 2175, 2259, 2277, 2309, 2314, 2342, 2572, 2593, 2625, 2629,\n",
       "            2672, 2679, 2680, 2684, 2685, 2725, 2737, 2765, 2766, 2928, 3183,\n",
       "            3365, 3366, 3399, 3625, 3639, 3688, 3827, 3894, 3956],\n",
       "           dtype='int64')"
      ]
     },
     "execution_count": 876,
     "metadata": {},
     "output_type": "execute_result"
    }
   ],
   "source": [
    "duplicateRowsDF.index"
   ]
  },
  {
   "cell_type": "code",
   "execution_count": 877,
   "metadata": {},
   "outputs": [
    {
     "data": {
      "text/html": [
       "<div>\n",
       "<style scoped>\n",
       "    .dataframe tbody tr th:only-of-type {\n",
       "        vertical-align: middle;\n",
       "    }\n",
       "\n",
       "    .dataframe tbody tr th {\n",
       "        vertical-align: top;\n",
       "    }\n",
       "\n",
       "    .dataframe thead th {\n",
       "        text-align: right;\n",
       "    }\n",
       "</style>\n",
       "<table border=\"1\" class=\"dataframe\">\n",
       "  <thead>\n",
       "    <tr style=\"text-align: right;\">\n",
       "      <th></th>\n",
       "      <th>subreddit</th>\n",
       "      <th>selftext</th>\n",
       "      <th>title</th>\n",
       "    </tr>\n",
       "  </thead>\n",
       "  <tbody>\n",
       "    <tr>\n",
       "      <th>385</th>\n",
       "      <td>NoStupidQuestions</td>\n",
       "      <td>\\nI’m not good at electronic stuff so are all ...</td>\n",
       "      <td>Security camera question</td>\n",
       "    </tr>\n",
       "    <tr>\n",
       "      <th>466</th>\n",
       "      <td>NoStupidQuestions</td>\n",
       "      <td>I’m not good at electronic stuff so are all th...</td>\n",
       "      <td>Security camera question</td>\n",
       "    </tr>\n",
       "    <tr>\n",
       "      <th>487</th>\n",
       "      <td>NoStupidQuestions</td>\n",
       "      <td>\\nI’m not good at electronic stuff so are all ...</td>\n",
       "      <td>Security camera question</td>\n",
       "    </tr>\n",
       "  </tbody>\n",
       "</table>\n",
       "</div>"
      ],
      "text/plain": [
       "             subreddit                                           selftext  \\\n",
       "385  NoStupidQuestions  \\nI’m not good at electronic stuff so are all ...   \n",
       "466  NoStupidQuestions  I’m not good at electronic stuff so are all th...   \n",
       "487  NoStupidQuestions  \\nI’m not good at electronic stuff so are all ...   \n",
       "\n",
       "                        title  \n",
       "385  Security camera question  \n",
       "466  Security camera question  \n",
       "487  Security camera question  "
      ]
     },
     "execution_count": 877,
     "metadata": {},
     "output_type": "execute_result"
    }
   ],
   "source": [
    "#test case prior to dupe drop - confirmed that a result remains after dupe drop completed\n",
    "data[data['title'] == 'Security camera question']"
   ]
  },
  {
   "cell_type": "code",
   "execution_count": 878,
   "metadata": {},
   "outputs": [],
   "source": [
    "data.drop(data.index[duplicateRowsDF.index], inplace=True)"
   ]
  },
  {
   "cell_type": "code",
   "execution_count": 879,
   "metadata": {},
   "outputs": [
    {
     "data": {
      "text/plain": [
       "(3947, 3)"
      ]
     },
     "execution_count": 879,
     "metadata": {},
     "output_type": "execute_result"
    }
   ],
   "source": [
    "data.shape"
   ]
  },
  {
   "cell_type": "code",
   "execution_count": 880,
   "metadata": {},
   "outputs": [],
   "source": [
    "#Dropping removed and deleted posts\n",
    "data = data[(data['selftext'] != '[removed]')]\n",
    "data = data[(data['selftext'] != '[deleted]')]"
   ]
  },
  {
   "cell_type": "code",
   "execution_count": 881,
   "metadata": {},
   "outputs": [
    {
     "data": {
      "text/plain": [
       "(3254, 3)"
      ]
     },
     "execution_count": 881,
     "metadata": {},
     "output_type": "execute_result"
    }
   ],
   "source": [
    "data.shape"
   ]
  },
  {
   "cell_type": "code",
   "execution_count": 882,
   "metadata": {},
   "outputs": [
    {
     "data": {
      "text/html": [
       "<div>\n",
       "<style scoped>\n",
       "    .dataframe tbody tr th:only-of-type {\n",
       "        vertical-align: middle;\n",
       "    }\n",
       "\n",
       "    .dataframe tbody tr th {\n",
       "        vertical-align: top;\n",
       "    }\n",
       "\n",
       "    .dataframe thead th {\n",
       "        text-align: right;\n",
       "    }\n",
       "</style>\n",
       "<table border=\"1\" class=\"dataframe\">\n",
       "  <thead>\n",
       "    <tr style=\"text-align: right;\">\n",
       "      <th></th>\n",
       "      <th>subreddit</th>\n",
       "      <th>selftext</th>\n",
       "      <th>title</th>\n",
       "    </tr>\n",
       "  </thead>\n",
       "  <tbody>\n",
       "    <tr>\n",
       "      <th>0</th>\n",
       "      <td>NoStupidQuestions</td>\n",
       "      <td>Like, that scene of Taken 3 of Liam Neeson jum...</td>\n",
       "      <td>In cinematography, why are cuts considered bad?</td>\n",
       "    </tr>\n",
       "    <tr>\n",
       "      <th>1</th>\n",
       "      <td>NoStupidQuestions</td>\n",
       "      <td>I need an advice, since I was grade 10 student...</td>\n",
       "      <td>This Decision will completely change my life</td>\n",
       "    </tr>\n",
       "    <tr>\n",
       "      <th>2</th>\n",
       "      <td>NoStupidQuestions</td>\n",
       "      <td>Every source I found says clinical depression ...</td>\n",
       "      <td>What gave some people the idea that clinical d...</td>\n",
       "    </tr>\n",
       "    <tr>\n",
       "      <th>3</th>\n",
       "      <td>NoStupidQuestions</td>\n",
       "      <td>My little brother (14) got an Xbox One and I g...</td>\n",
       "      <td>What exactly is the logic behind birthday pres...</td>\n",
       "    </tr>\n",
       "    <tr>\n",
       "      <th>4</th>\n",
       "      <td>NoStupidQuestions</td>\n",
       "      <td>Do most people go through a \"phase\" in their l...</td>\n",
       "      <td>Do most people go through a \"phase\" in their l...</td>\n",
       "    </tr>\n",
       "    <tr>\n",
       "      <th>...</th>\n",
       "      <td>...</td>\n",
       "      <td>...</td>\n",
       "      <td>...</td>\n",
       "    </tr>\n",
       "    <tr>\n",
       "      <th>3249</th>\n",
       "      <td>TooAfraidToAsk</td>\n",
       "      <td>Like in the UK you're allowed to go outside to...</td>\n",
       "      <td>Do people judge you for walking round the park?</td>\n",
       "    </tr>\n",
       "    <tr>\n",
       "      <th>3250</th>\n",
       "      <td>TooAfraidToAsk</td>\n",
       "      <td>I know that our body's become \"paralyzed\" to p...</td>\n",
       "      <td>Why don't we sneeze while sleeping?</td>\n",
       "    </tr>\n",
       "    <tr>\n",
       "      <th>3251</th>\n",
       "      <td>TooAfraidToAsk</td>\n",
       "      <td>I have a an android my volume is up but no sou...</td>\n",
       "      <td>Audio For Mobile Reddit App</td>\n",
       "    </tr>\n",
       "    <tr>\n",
       "      <th>3252</th>\n",
       "      <td>TooAfraidToAsk</td>\n",
       "      <td>So I read the news line about the U.S having a...</td>\n",
       "      <td>2 trillion bailout?</td>\n",
       "    </tr>\n",
       "    <tr>\n",
       "      <th>3253</th>\n",
       "      <td>TooAfraidToAsk</td>\n",
       "      <td>My mom seems to be annoyed when I fidget, but ...</td>\n",
       "      <td>I fidget a lot</td>\n",
       "    </tr>\n",
       "  </tbody>\n",
       "</table>\n",
       "<p>3254 rows × 3 columns</p>\n",
       "</div>"
      ],
      "text/plain": [
       "              subreddit                                           selftext  \\\n",
       "0     NoStupidQuestions  Like, that scene of Taken 3 of Liam Neeson jum...   \n",
       "1     NoStupidQuestions  I need an advice, since I was grade 10 student...   \n",
       "2     NoStupidQuestions  Every source I found says clinical depression ...   \n",
       "3     NoStupidQuestions  My little brother (14) got an Xbox One and I g...   \n",
       "4     NoStupidQuestions  Do most people go through a \"phase\" in their l...   \n",
       "...                 ...                                                ...   \n",
       "3249     TooAfraidToAsk  Like in the UK you're allowed to go outside to...   \n",
       "3250     TooAfraidToAsk  I know that our body's become \"paralyzed\" to p...   \n",
       "3251     TooAfraidToAsk  I have a an android my volume is up but no sou...   \n",
       "3252     TooAfraidToAsk  So I read the news line about the U.S having a...   \n",
       "3253     TooAfraidToAsk  My mom seems to be annoyed when I fidget, but ...   \n",
       "\n",
       "                                                  title  \n",
       "0       In cinematography, why are cuts considered bad?  \n",
       "1          This Decision will completely change my life  \n",
       "2     What gave some people the idea that clinical d...  \n",
       "3     What exactly is the logic behind birthday pres...  \n",
       "4     Do most people go through a \"phase\" in their l...  \n",
       "...                                                 ...  \n",
       "3249    Do people judge you for walking round the park?  \n",
       "3250                Why don't we sneeze while sleeping?  \n",
       "3251                        Audio For Mobile Reddit App  \n",
       "3252                                2 trillion bailout?  \n",
       "3253                                     I fidget a lot  \n",
       "\n",
       "[3254 rows x 3 columns]"
      ]
     },
     "execution_count": 882,
     "metadata": {},
     "output_type": "execute_result"
    }
   ],
   "source": [
    "#Reset index\n",
    "data = data.reset_index(drop=True)\n",
    "data"
   ]
  },
  {
   "cell_type": "code",
   "execution_count": 883,
   "metadata": {},
   "outputs": [],
   "source": [
    "#Clean up text to remove symbols and change to lowercase\n",
    "for i in range(len(data['selftext'])):\n",
    "    data.loc[i,'selftext']= re.sub(\"[^a-zA-Z]\", \" \", data.loc[i,'selftext']).lower().split()\n",
    "    data.loc[i,'selftext'] = \" \".join(data.loc[i,'selftext'])\n",
    "    \n",
    "    "
   ]
  },
  {
   "cell_type": "code",
   "execution_count": 884,
   "metadata": {},
   "outputs": [
    {
     "data": {
      "text/plain": [
       "'like that scene of taken of liam neeson jumping the fence taking several cuts or the long shot in being considered a selling point i don t understand why either is considered good or bad'"
      ]
     },
     "execution_count": 884,
     "metadata": {},
     "output_type": "execute_result"
    }
   ],
   "source": [
    "data.loc[0,'selftext']"
   ]
  },
  {
   "cell_type": "code",
   "execution_count": 885,
   "metadata": {},
   "outputs": [],
   "source": [
    "#Clean up text to remove symbols and change to lowercase\n",
    "for i in range(len(data['title'])):\n",
    "    data.loc[i,'title']= re.sub(\"[^a-zA-Z]\", \" \", data.loc[i,'title']).lower().split()\n",
    "    data.loc[i,'title'] = \" \".join(data.loc[i,'title'])\n",
    "    \n",
    "    "
   ]
  },
  {
   "cell_type": "code",
   "execution_count": 886,
   "metadata": {},
   "outputs": [
    {
     "data": {
      "text/plain": [
       "'in cinematography why are cuts considered bad'"
      ]
     },
     "execution_count": 886,
     "metadata": {},
     "output_type": "execute_result"
    }
   ],
   "source": [
    "data.loc[0,'title']"
   ]
  },
  {
   "cell_type": "code",
   "execution_count": 887,
   "metadata": {},
   "outputs": [],
   "source": [
    "data['selftext'] = [data.loc[i,'title'] if data.loc[i,'selftext'] == \"\" else data.loc[i,'selftext'] for i in range(len(data['selftext']))] #To replace spaces fields where spaces only remain after text replacement."
   ]
  },
  {
   "cell_type": "code",
   "execution_count": 888,
   "metadata": {},
   "outputs": [],
   "source": [
    "data['subreddit'] = [1 if i == 'TooAfraidToAsk' else 0 for i in data['subreddit']]"
   ]
  },
  {
   "cell_type": "code",
   "execution_count": 889,
   "metadata": {},
   "outputs": [
    {
     "data": {
      "text/html": [
       "<div>\n",
       "<style scoped>\n",
       "    .dataframe tbody tr th:only-of-type {\n",
       "        vertical-align: middle;\n",
       "    }\n",
       "\n",
       "    .dataframe tbody tr th {\n",
       "        vertical-align: top;\n",
       "    }\n",
       "\n",
       "    .dataframe thead th {\n",
       "        text-align: right;\n",
       "    }\n",
       "</style>\n",
       "<table border=\"1\" class=\"dataframe\">\n",
       "  <thead>\n",
       "    <tr style=\"text-align: right;\">\n",
       "      <th></th>\n",
       "      <th>subreddit</th>\n",
       "      <th>selftext</th>\n",
       "      <th>title</th>\n",
       "    </tr>\n",
       "  </thead>\n",
       "  <tbody>\n",
       "    <tr>\n",
       "      <th>0</th>\n",
       "      <td>0</td>\n",
       "      <td>like that scene of taken of liam neeson jumpin...</td>\n",
       "      <td>in cinematography why are cuts considered bad</td>\n",
       "    </tr>\n",
       "    <tr>\n",
       "      <th>1</th>\n",
       "      <td>0</td>\n",
       "      <td>i need an advice since i was grade student i w...</td>\n",
       "      <td>this decision will completely change my life</td>\n",
       "    </tr>\n",
       "    <tr>\n",
       "      <th>2</th>\n",
       "      <td>0</td>\n",
       "      <td>every source i found says clinical depression ...</td>\n",
       "      <td>what gave some people the idea that clinical d...</td>\n",
       "    </tr>\n",
       "    <tr>\n",
       "      <th>3</th>\n",
       "      <td>0</td>\n",
       "      <td>my little brother got an xbox one and i got a ...</td>\n",
       "      <td>what exactly is the logic behind birthday pres...</td>\n",
       "    </tr>\n",
       "    <tr>\n",
       "      <th>4</th>\n",
       "      <td>0</td>\n",
       "      <td>do most people go through a phase in their lif...</td>\n",
       "      <td>do most people go through a phase in their lif...</td>\n",
       "    </tr>\n",
       "    <tr>\n",
       "      <th>...</th>\n",
       "      <td>...</td>\n",
       "      <td>...</td>\n",
       "      <td>...</td>\n",
       "    </tr>\n",
       "    <tr>\n",
       "      <th>3249</th>\n",
       "      <td>1</td>\n",
       "      <td>like in the uk you re allowed to go outside to...</td>\n",
       "      <td>do people judge you for walking round the park</td>\n",
       "    </tr>\n",
       "    <tr>\n",
       "      <th>3250</th>\n",
       "      <td>1</td>\n",
       "      <td>i know that our body s become paralyzed to pre...</td>\n",
       "      <td>why don t we sneeze while sleeping</td>\n",
       "    </tr>\n",
       "    <tr>\n",
       "      <th>3251</th>\n",
       "      <td>1</td>\n",
       "      <td>i have a an android my volume is up but no sou...</td>\n",
       "      <td>audio for mobile reddit app</td>\n",
       "    </tr>\n",
       "    <tr>\n",
       "      <th>3252</th>\n",
       "      <td>1</td>\n",
       "      <td>so i read the news line about the u s having a...</td>\n",
       "      <td>trillion bailout</td>\n",
       "    </tr>\n",
       "    <tr>\n",
       "      <th>3253</th>\n",
       "      <td>1</td>\n",
       "      <td>my mom seems to be annoyed when i fidget but i...</td>\n",
       "      <td>i fidget a lot</td>\n",
       "    </tr>\n",
       "  </tbody>\n",
       "</table>\n",
       "<p>3254 rows × 3 columns</p>\n",
       "</div>"
      ],
      "text/plain": [
       "      subreddit                                           selftext  \\\n",
       "0             0  like that scene of taken of liam neeson jumpin...   \n",
       "1             0  i need an advice since i was grade student i w...   \n",
       "2             0  every source i found says clinical depression ...   \n",
       "3             0  my little brother got an xbox one and i got a ...   \n",
       "4             0  do most people go through a phase in their lif...   \n",
       "...         ...                                                ...   \n",
       "3249          1  like in the uk you re allowed to go outside to...   \n",
       "3250          1  i know that our body s become paralyzed to pre...   \n",
       "3251          1  i have a an android my volume is up but no sou...   \n",
       "3252          1  so i read the news line about the u s having a...   \n",
       "3253          1  my mom seems to be annoyed when i fidget but i...   \n",
       "\n",
       "                                                  title  \n",
       "0         in cinematography why are cuts considered bad  \n",
       "1          this decision will completely change my life  \n",
       "2     what gave some people the idea that clinical d...  \n",
       "3     what exactly is the logic behind birthday pres...  \n",
       "4     do most people go through a phase in their lif...  \n",
       "...                                                 ...  \n",
       "3249     do people judge you for walking round the park  \n",
       "3250                 why don t we sneeze while sleeping  \n",
       "3251                        audio for mobile reddit app  \n",
       "3252                                   trillion bailout  \n",
       "3253                                     i fidget a lot  \n",
       "\n",
       "[3254 rows x 3 columns]"
      ]
     },
     "execution_count": 889,
     "metadata": {},
     "output_type": "execute_result"
    }
   ],
   "source": [
    "data"
   ]
  },
  {
   "cell_type": "code",
   "execution_count": 890,
   "metadata": {},
   "outputs": [],
   "source": [
    "#Export cleaned data to csv\n",
    "data.to_csv('posts_clean.csv', sep = ',', index=False)"
   ]
  },
  {
   "cell_type": "markdown",
   "metadata": {},
   "source": [
    "#### Confirm rows with characters only for selftext have actual text populated from title"
   ]
  },
  {
   "cell_type": "code",
   "execution_count": 891,
   "metadata": {},
   "outputs": [
    {
     "data": {
      "text/plain": [
       "'when a person dies do the bones stick together and create a skeleton or do the bones separate from each other'"
      ]
     },
     "execution_count": 891,
     "metadata": {},
     "output_type": "execute_result"
    }
   ],
   "source": [
    "data.loc[179,'selftext'] "
   ]
  },
  {
   "cell_type": "code",
   "execution_count": 892,
   "metadata": {},
   "outputs": [
    {
     "data": {
      "text/plain": [
       "'why do some posts comments have the upvote counter hidden does it have to do with privacy'"
      ]
     },
     "execution_count": 892,
     "metadata": {},
     "output_type": "execute_result"
    }
   ],
   "source": [
    "data.loc[2996,'selftext']"
   ]
  },
  {
   "cell_type": "code",
   "execution_count": 893,
   "metadata": {},
   "outputs": [
    {
     "data": {
      "text/plain": [
       "'when a person dies do the bones stick together and create a skeleton or do the bones separate from each other'"
      ]
     },
     "execution_count": 893,
     "metadata": {},
     "output_type": "execute_result"
    }
   ],
   "source": [
    "data.loc[179,'title']"
   ]
  },
  {
   "cell_type": "code",
   "execution_count": 894,
   "metadata": {},
   "outputs": [
    {
     "data": {
      "text/plain": [
       "'why do some posts comments have the upvote counter hidden does it have to do with privacy'"
      ]
     },
     "execution_count": 894,
     "metadata": {},
     "output_type": "execute_result"
    }
   ],
   "source": [
    "data.loc[2996,'title']"
   ]
  },
  {
   "cell_type": "code",
   "execution_count": null,
   "metadata": {},
   "outputs": [],
   "source": []
  }
 ],
 "metadata": {
  "kernelspec": {
   "display_name": "Python 3",
   "language": "python",
   "name": "python3"
  },
  "language_info": {
   "codemirror_mode": {
    "name": "ipython",
    "version": 3
   },
   "file_extension": ".py",
   "mimetype": "text/x-python",
   "name": "python",
   "nbconvert_exporter": "python",
   "pygments_lexer": "ipython3",
   "version": "3.7.7"
  }
 },
 "nbformat": 4,
 "nbformat_minor": 4
}
